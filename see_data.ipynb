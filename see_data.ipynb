{
 "cells": [
  {
   "cell_type": "markdown",
   "id": "03792e08-a4bc-40eb-afbd-9b815980379b",
   "metadata": {
    "editable": true,
    "slideshow": {
     "slide_type": ""
    },
    "tags": []
   },
   "source": [
    "# PREPROCESSING DATA"
   ]
  },
  {
   "cell_type": "markdown",
   "id": "376d0539-a0ba-4b9c-a40f-584371d9b6c2",
   "metadata": {},
   "source": [
    "## Necessary imports and setting options for pandas to be able to see data clearly"
   ]
  },
  {
   "cell_type": "code",
   "execution_count": 4,
   "id": "ff9a82e4-77ef-4982-ada5-6aae34ecf91d",
   "metadata": {
    "editable": true,
    "slideshow": {
     "slide_type": ""
    },
    "tags": []
   },
   "outputs": [],
   "source": [
    "import os\n",
    "os.environ[\"OMP_NUM_THREADS\"] = \"1\"\n",
    "\n",
    "%load_ext autoreload\n",
    "%autoreload 2\n",
    "    \n",
    "import json\n",
    "import ast\n",
    "import inspect\n",
    "import os\n",
    "from sklearn.preprocessing import MultiLabelBinarizer\n",
    "from sentence_transformers import SentenceTransformer\n",
    "from sklearn.cluster import KMeans\n",
    "from sklearn.preprocessing import OneHotEncoder\n",
    "from IPython.display import display, HTML\n",
    "from reutilizabile.common_imports import *\n",
    "from reutilizabile.missing_freq_unique import *\n",
    "from reutilizabile.feature_engineering import *\n",
    "from reutilizabile.plots import *\n",
    "\n",
    "pd.set_option('display.max_colwidth', None)\n",
    "pd.set_option('display.max_columns', None)\n",
    "pd.set_option('display.max_rows', None)"
   ]
  },
  {
   "cell_type": "markdown",
   "id": "08288a19-21f2-4f7d-848d-32d8cc675b82",
   "metadata": {},
   "source": [
    "## Read the local dataset"
   ]
  },
  {
   "cell_type": "code",
   "execution_count": 6,
   "id": "b0d0994c-16d8-424e-9793-06cdd23f5532",
   "metadata": {},
   "outputs": [],
   "source": [
    "df = pd.read_csv(\"data/job_description.csv\")"
   ]
  },
  {
   "cell_type": "markdown",
   "id": "d255981b-e9b2-4d04-90dc-7e0b2f412fa9",
   "metadata": {
    "jp-MarkdownHeadingCollapsed": true
   },
   "source": [
    "## Used INFO,DESCRIBE,HEAD functions to understand the type of data,size and structure"
   ]
  },
  {
   "cell_type": "code",
   "execution_count": 8,
   "id": "dba484ec-1a99-4b34-ba56-542294ef0edb",
   "metadata": {
    "scrolled": true
   },
   "outputs": [
    {
     "name": "stdout",
     "output_type": "stream",
     "text": [
      "<class 'pandas.core.frame.DataFrame'>\n",
      "RangeIndex: 1408970 entries, 0 to 1408969\n",
      "Data columns (total 16 columns):\n",
      " #   Column            Non-Null Count    Dtype \n",
      "---  ------            --------------    ----- \n",
      " 0   Experience        1408970 non-null  object\n",
      " 1   Qualifications    1408970 non-null  object\n",
      " 2   Salary Range      1408970 non-null  object\n",
      " 3   location          1408970 non-null  object\n",
      " 4   Country           1408970 non-null  object\n",
      " 5   Work Type         1408970 non-null  object\n",
      " 6   Company Size      1408970 non-null  int64 \n",
      " 7   Job Posting Date  1408970 non-null  object\n",
      " 8   Job Title         1408970 non-null  object\n",
      " 9   Role              1408970 non-null  object\n",
      " 10  Job Portal        1408970 non-null  object\n",
      " 11  Job Description   1408970 non-null  object\n",
      " 12  Benefits          1408970 non-null  object\n",
      " 13  skills            1408970 non-null  object\n",
      " 14  Responsibilities  1408970 non-null  object\n",
      " 15  Company           1408970 non-null  object\n",
      "dtypes: int64(1), object(15)\n",
      "memory usage: 172.0+ MB\n"
     ]
    }
   ],
   "source": [
    "df.info()"
   ]
  },
  {
   "cell_type": "code",
   "execution_count": 9,
   "id": "c5b67679-04f3-457f-b2f8-0b8d2a0728cf",
   "metadata": {},
   "outputs": [
    {
     "data": {
      "text/html": [
       "<div>\n",
       "<style scoped>\n",
       "    .dataframe tbody tr th:only-of-type {\n",
       "        vertical-align: middle;\n",
       "    }\n",
       "\n",
       "    .dataframe tbody tr th {\n",
       "        vertical-align: top;\n",
       "    }\n",
       "\n",
       "    .dataframe thead th {\n",
       "        text-align: right;\n",
       "    }\n",
       "</style>\n",
       "<table border=\"1\" class=\"dataframe\">\n",
       "  <thead>\n",
       "    <tr style=\"text-align: right;\">\n",
       "      <th></th>\n",
       "      <th>Company Size</th>\n",
       "    </tr>\n",
       "  </thead>\n",
       "  <tbody>\n",
       "    <tr>\n",
       "      <th>count</th>\n",
       "      <td>1.408970e+06</td>\n",
       "    </tr>\n",
       "    <tr>\n",
       "      <th>mean</th>\n",
       "      <td>7.370942e+04</td>\n",
       "    </tr>\n",
       "    <tr>\n",
       "      <th>std</th>\n",
       "      <td>3.529821e+04</td>\n",
       "    </tr>\n",
       "    <tr>\n",
       "      <th>min</th>\n",
       "      <td>1.264600e+04</td>\n",
       "    </tr>\n",
       "    <tr>\n",
       "      <th>25%</th>\n",
       "      <td>4.313000e+04</td>\n",
       "    </tr>\n",
       "    <tr>\n",
       "      <th>50%</th>\n",
       "      <td>7.363400e+04</td>\n",
       "    </tr>\n",
       "    <tr>\n",
       "      <th>75%</th>\n",
       "      <td>1.043028e+05</td>\n",
       "    </tr>\n",
       "    <tr>\n",
       "      <th>max</th>\n",
       "      <td>1.348340e+05</td>\n",
       "    </tr>\n",
       "  </tbody>\n",
       "</table>\n",
       "</div>"
      ],
      "text/plain": [
       "       Company Size\n",
       "count  1.408970e+06\n",
       "mean   7.370942e+04\n",
       "std    3.529821e+04\n",
       "min    1.264600e+04\n",
       "25%    4.313000e+04\n",
       "50%    7.363400e+04\n",
       "75%    1.043028e+05\n",
       "max    1.348340e+05"
      ]
     },
     "execution_count": 9,
     "metadata": {},
     "output_type": "execute_result"
    }
   ],
   "source": [
    "df.describe()"
   ]
  },
  {
   "cell_type": "code",
   "execution_count": 10,
   "id": "9d78136a-92b3-4fb8-b517-68390ed3ba16",
   "metadata": {},
   "outputs": [
    {
     "data": {
      "text/html": [
       "<div>\n",
       "<style scoped>\n",
       "    .dataframe tbody tr th:only-of-type {\n",
       "        vertical-align: middle;\n",
       "    }\n",
       "\n",
       "    .dataframe tbody tr th {\n",
       "        vertical-align: top;\n",
       "    }\n",
       "\n",
       "    .dataframe thead th {\n",
       "        text-align: right;\n",
       "    }\n",
       "</style>\n",
       "<table border=\"1\" class=\"dataframe\">\n",
       "  <thead>\n",
       "    <tr style=\"text-align: right;\">\n",
       "      <th></th>\n",
       "      <th>Experience</th>\n",
       "      <th>Qualifications</th>\n",
       "      <th>Salary Range</th>\n",
       "      <th>location</th>\n",
       "      <th>Country</th>\n",
       "      <th>Work Type</th>\n",
       "      <th>Company Size</th>\n",
       "      <th>Job Posting Date</th>\n",
       "      <th>Job Title</th>\n",
       "      <th>Role</th>\n",
       "      <th>Job Portal</th>\n",
       "      <th>Job Description</th>\n",
       "      <th>Benefits</th>\n",
       "      <th>skills</th>\n",
       "      <th>Responsibilities</th>\n",
       "      <th>Company</th>\n",
       "    </tr>\n",
       "  </thead>\n",
       "  <tbody>\n",
       "    <tr>\n",
       "      <th>0</th>\n",
       "      <td>5 to 15 Years</td>\n",
       "      <td>M.Tech</td>\n",
       "      <td>$59K-$99K</td>\n",
       "      <td>Douglas</td>\n",
       "      <td>Isle of Man</td>\n",
       "      <td>Intern</td>\n",
       "      <td>26801</td>\n",
       "      <td>2022-04-24</td>\n",
       "      <td>Digital Marketing Specialist</td>\n",
       "      <td>Social Media Manager</td>\n",
       "      <td>Snagajob</td>\n",
       "      <td>Social Media Managers oversee an organizations social media presence. They create and schedule content, engage with followers, and analyze social media metrics to drive brand awareness and engagement.</td>\n",
       "      <td>{'Flexible Spending Accounts (FSAs), Relocation Assistance, Legal Assistance, Employee Recognition Programs, Financial Counseling'}</td>\n",
       "      <td>Social media platforms (e.g., Facebook, Twitter, Instagram) Content creation and scheduling Social media analytics and insights Community engagement Paid social advertising</td>\n",
       "      <td>Manage and grow social media accounts, create engaging content, and interact with the online community. Develop social media content calendars and strategies. Monitor social media trends and engagement metrics.</td>\n",
       "      <td>Icahn Enterprises</td>\n",
       "    </tr>\n",
       "    <tr>\n",
       "      <th>1</th>\n",
       "      <td>2 to 12 Years</td>\n",
       "      <td>BCA</td>\n",
       "      <td>$56K-$116K</td>\n",
       "      <td>Ashgabat</td>\n",
       "      <td>Turkmenistan</td>\n",
       "      <td>Intern</td>\n",
       "      <td>100340</td>\n",
       "      <td>2022-12-19</td>\n",
       "      <td>Web Developer</td>\n",
       "      <td>Frontend Web Developer</td>\n",
       "      <td>Idealist</td>\n",
       "      <td>Frontend Web Developers design and implement user interfaces for websites, ensuring they are visually appealing and user-friendly. They collaborate with designers and backend developers to create seamless web experiences for users.</td>\n",
       "      <td>{'Health Insurance, Retirement Plans, Paid Time Off (PTO), Flexible Work Arrangements, Employee Assistance Programs (EAP)'}</td>\n",
       "      <td>HTML, CSS, JavaScript Frontend frameworks (e.g., React, Angular) User experience (UX)</td>\n",
       "      <td>Design and code user interfaces for websites, ensuring a seamless and visually appealing user experience. Collaborate with UX designers to optimize user journeys. Ensure cross-browser compatibility and responsive design.</td>\n",
       "      <td>PNC Financial Services Group</td>\n",
       "    </tr>\n",
       "    <tr>\n",
       "      <th>2</th>\n",
       "      <td>0 to 12 Years</td>\n",
       "      <td>PhD</td>\n",
       "      <td>$61K-$104K</td>\n",
       "      <td>Macao</td>\n",
       "      <td>Macao SAR, China</td>\n",
       "      <td>Temporary</td>\n",
       "      <td>84525</td>\n",
       "      <td>2022-09-14</td>\n",
       "      <td>Operations Manager</td>\n",
       "      <td>Quality Control Manager</td>\n",
       "      <td>Jobs2Careers</td>\n",
       "      <td>Quality Control Managers establish and enforce quality standards within an organization. They develop quality control processes, perform inspections, and implement corrective actions to maintain product or service quality.</td>\n",
       "      <td>{'Legal Assistance, Bonuses and Incentive Programs, Wellness Programs, Employee Discounts, Retirement Plans'}</td>\n",
       "      <td>Quality control processes and methodologies Statistical process control (SPC) Root cause analysis and corrective action Quality management systems (e.g., ISO 9001) Compliance and regulatory knowledge</td>\n",
       "      <td>Establish and enforce quality control standards and procedures. Conduct quality audits and inspections. Collaborate with production teams to address quality issues and implement improvements.</td>\n",
       "      <td>United Services Automobile Assn.</td>\n",
       "    </tr>\n",
       "    <tr>\n",
       "      <th>3</th>\n",
       "      <td>4 to 11 Years</td>\n",
       "      <td>PhD</td>\n",
       "      <td>$65K-$91K</td>\n",
       "      <td>Porto-Novo</td>\n",
       "      <td>Benin</td>\n",
       "      <td>Full-Time</td>\n",
       "      <td>129896</td>\n",
       "      <td>2023-02-25</td>\n",
       "      <td>Network Engineer</td>\n",
       "      <td>Wireless Network Engineer</td>\n",
       "      <td>FlexJobs</td>\n",
       "      <td>Wireless Network Engineers design, implement, and maintain wireless network solutions. They optimize wireless connectivity, troubleshoot issues, and ensure reliable and secure wireless communications.</td>\n",
       "      <td>{'Transportation Benefits, Professional Development, Bonuses and Incentive Programs, Profit-Sharing, Employee Discounts'}</td>\n",
       "      <td>Wireless network design and architecture Wi-Fi standards and protocols RF (Radio Frequency) planning and optimization Wireless security protocols Troubleshooting wireless network issues</td>\n",
       "      <td>Design, configure, and optimize wireless networks, ensuring reliable and secure wireless connectivity. Troubleshoot wireless network issues. Plan and implement wireless network upgrades.</td>\n",
       "      <td>Hess</td>\n",
       "    </tr>\n",
       "    <tr>\n",
       "      <th>4</th>\n",
       "      <td>1 to 12 Years</td>\n",
       "      <td>MBA</td>\n",
       "      <td>$64K-$87K</td>\n",
       "      <td>Santiago</td>\n",
       "      <td>Chile</td>\n",
       "      <td>Intern</td>\n",
       "      <td>53944</td>\n",
       "      <td>2022-10-11</td>\n",
       "      <td>Event Manager</td>\n",
       "      <td>Conference Manager</td>\n",
       "      <td>Jobs2Careers</td>\n",
       "      <td>A Conference Manager coordinates and manages conferences, meetings, and events. They plan logistics, handle budgeting, liaise with vendors, and ensure the smooth execution of events, catering to the needs and expectations of attendees.</td>\n",
       "      <td>{'Flexible Spending Accounts (FSAs), Relocation Assistance, Legal Assistance, Employee Recognition Programs, Financial Counseling'}</td>\n",
       "      <td>Event planning Conference logistics Budget management Vendor coordination Marketing and promotion Client relations</td>\n",
       "      <td>Specialize in conference and convention planning. Coordinate speaker sessions, exhibitors, and attendee experiences. Oversee event registration and marketing.</td>\n",
       "      <td>Cairn Energy</td>\n",
       "    </tr>\n",
       "  </tbody>\n",
       "</table>\n",
       "</div>"
      ],
      "text/plain": [
       "      Experience Qualifications Salary Range    location           Country  \\\n",
       "0  5 to 15 Years         M.Tech    $59K-$99K     Douglas       Isle of Man   \n",
       "1  2 to 12 Years            BCA   $56K-$116K    Ashgabat      Turkmenistan   \n",
       "2  0 to 12 Years            PhD   $61K-$104K       Macao  Macao SAR, China   \n",
       "3  4 to 11 Years            PhD    $65K-$91K  Porto-Novo             Benin   \n",
       "4  1 to 12 Years            MBA    $64K-$87K    Santiago             Chile   \n",
       "\n",
       "   Work Type  Company Size Job Posting Date                     Job Title  \\\n",
       "0     Intern         26801       2022-04-24  Digital Marketing Specialist   \n",
       "1     Intern        100340       2022-12-19                 Web Developer   \n",
       "2  Temporary         84525       2022-09-14            Operations Manager   \n",
       "3  Full-Time        129896       2023-02-25              Network Engineer   \n",
       "4     Intern         53944       2022-10-11                 Event Manager   \n",
       "\n",
       "                        Role    Job Portal  \\\n",
       "0       Social Media Manager      Snagajob   \n",
       "1     Frontend Web Developer      Idealist   \n",
       "2    Quality Control Manager  Jobs2Careers   \n",
       "3  Wireless Network Engineer      FlexJobs   \n",
       "4         Conference Manager  Jobs2Careers   \n",
       "\n",
       "                                                                                                                                                                                                                               Job Description  \\\n",
       "0                                     Social Media Managers oversee an organizations social media presence. They create and schedule content, engage with followers, and analyze social media metrics to drive brand awareness and engagement.   \n",
       "1      Frontend Web Developers design and implement user interfaces for websites, ensuring they are visually appealing and user-friendly. They collaborate with designers and backend developers to create seamless web experiences for users.   \n",
       "2               Quality Control Managers establish and enforce quality standards within an organization. They develop quality control processes, perform inspections, and implement corrective actions to maintain product or service quality.   \n",
       "3                                     Wireless Network Engineers design, implement, and maintain wireless network solutions. They optimize wireless connectivity, troubleshoot issues, and ensure reliable and secure wireless communications.   \n",
       "4  A Conference Manager coordinates and manages conferences, meetings, and events. They plan logistics, handle budgeting, liaise with vendors, and ensure the smooth execution of events, catering to the needs and expectations of attendees.   \n",
       "\n",
       "                                                                                                                              Benefits  \\\n",
       "0  {'Flexible Spending Accounts (FSAs), Relocation Assistance, Legal Assistance, Employee Recognition Programs, Financial Counseling'}   \n",
       "1          {'Health Insurance, Retirement Plans, Paid Time Off (PTO), Flexible Work Arrangements, Employee Assistance Programs (EAP)'}   \n",
       "2                        {'Legal Assistance, Bonuses and Incentive Programs, Wellness Programs, Employee Discounts, Retirement Plans'}   \n",
       "3            {'Transportation Benefits, Professional Development, Bonuses and Incentive Programs, Profit-Sharing, Employee Discounts'}   \n",
       "4  {'Flexible Spending Accounts (FSAs), Relocation Assistance, Legal Assistance, Employee Recognition Programs, Financial Counseling'}   \n",
       "\n",
       "                                                                                                                                                                                                    skills  \\\n",
       "0                             Social media platforms (e.g., Facebook, Twitter, Instagram) Content creation and scheduling Social media analytics and insights Community engagement Paid social advertising   \n",
       "1                                                                                                                    HTML, CSS, JavaScript Frontend frameworks (e.g., React, Angular) User experience (UX)   \n",
       "2  Quality control processes and methodologies Statistical process control (SPC) Root cause analysis and corrective action Quality management systems (e.g., ISO 9001) Compliance and regulatory knowledge   \n",
       "3                Wireless network design and architecture Wi-Fi standards and protocols RF (Radio Frequency) planning and optimization Wireless security protocols Troubleshooting wireless network issues   \n",
       "4                                                                                       Event planning Conference logistics Budget management Vendor coordination Marketing and promotion Client relations   \n",
       "\n",
       "                                                                                                                                                                                                               Responsibilities  \\\n",
       "0            Manage and grow social media accounts, create engaging content, and interact with the online community. Develop social media content calendars and strategies. Monitor social media trends and engagement metrics.   \n",
       "1  Design and code user interfaces for websites, ensuring a seamless and visually appealing user experience. Collaborate with UX designers to optimize user journeys. Ensure cross-browser compatibility and responsive design.   \n",
       "2                               Establish and enforce quality control standards and procedures. Conduct quality audits and inspections. Collaborate with production teams to address quality issues and implement improvements.   \n",
       "3                                    Design, configure, and optimize wireless networks, ensuring reliable and secure wireless connectivity. Troubleshoot wireless network issues. Plan and implement wireless network upgrades.   \n",
       "4                                                                Specialize in conference and convention planning. Coordinate speaker sessions, exhibitors, and attendee experiences. Oversee event registration and marketing.   \n",
       "\n",
       "                            Company  \n",
       "0                 Icahn Enterprises  \n",
       "1      PNC Financial Services Group  \n",
       "2  United Services Automobile Assn.  \n",
       "3                              Hess  \n",
       "4                      Cairn Energy  "
      ]
     },
     "execution_count": 10,
     "metadata": {},
     "output_type": "execute_result"
    }
   ],
   "source": [
    "df.head()"
   ]
  },
  {
   "cell_type": "markdown",
   "id": "a002bed3-588c-4940-ba6f-27c84238d5c7",
   "metadata": {},
   "source": [
    "## Using Custom Functions to Analyze Missing, Frequent, and Unique Values"
   ]
  },
  {
   "cell_type": "markdown",
   "id": "3f982eb6-b306-4378-9333-0e6a10f5e98e",
   "metadata": {
    "jp-MarkdownHeadingCollapsed": true
   },
   "source": [
    "### Function for analyzing missing data:"
   ]
  },
  {
   "cell_type": "code",
   "execution_count": 13,
   "id": "8265576f-4fd5-414b-8dbd-34ba4ddcc2d7",
   "metadata": {},
   "outputs": [
    {
     "name": "stdout",
     "output_type": "stream",
     "text": [
      "def missing_data(data):\n",
      "    total = data.isnull().sum()\n",
      "    percent = (total/data.isnull().count()*100)\n",
      "    tt = pd.concat([total,percent], axis=1, keys=['Total','Percent'])\n",
      "    types = []\n",
      "    for col in data.columns:\n",
      "        dtype = str(data[col].dtype)\n",
      "        types.append(dtype)\n",
      "    tt['Types'] = types\n",
      "    return(np.transpose(tt))\n",
      "\n"
     ]
    }
   ],
   "source": [
    "print(inspect.getsource(missing_data))"
   ]
  },
  {
   "cell_type": "code",
   "execution_count": 14,
   "id": "bc074d77-4adc-456d-96a6-32d0df43941d",
   "metadata": {},
   "outputs": [
    {
     "name": "stdout",
     "output_type": "stream",
     "text": [
      "        Experience Qualifications Salary Range location Country Work Type  \\\n",
      "Total            0              0            0        0       0         0   \n",
      "Percent        0.0            0.0          0.0      0.0     0.0       0.0   \n",
      "Types       object         object       object   object  object    object   \n",
      "\n",
      "        Company Size Job Posting Date Job Title    Role Job Portal  \\\n",
      "Total              0                0         0       0          0   \n",
      "Percent          0.0              0.0       0.0     0.0        0.0   \n",
      "Types          int64           object    object  object     object   \n",
      "\n",
      "        Job Description Benefits  skills Responsibilities Company  \n",
      "Total                 0        0       0                0       0  \n",
      "Percent             0.0      0.0     0.0              0.0     0.0  \n",
      "Types            object   object  object           object  object  \n"
     ]
    }
   ],
   "source": [
    "missing = missing_data(df)\n",
    "print(missing)"
   ]
  },
  {
   "cell_type": "markdown",
   "id": "d7a708f5-89cd-4524-93f0-1a668d6c71be",
   "metadata": {
    "jp-MarkdownHeadingCollapsed": true
   },
   "source": [
    "### Function for analyzing most frequent values:"
   ]
  },
  {
   "cell_type": "code",
   "execution_count": 16,
   "id": "1d0666ec-968a-4e9b-b81e-ce2810020758",
   "metadata": {},
   "outputs": [
    {
     "name": "stdout",
     "output_type": "stream",
     "text": [
      "def most_frequent_values(data):\n",
      "    total = data.count()\n",
      "    tt = pd.DataFrame(total)\n",
      "    tt.columns = ['Total']\n",
      "    items = []\n",
      "    vals = []\n",
      "    for col in data.columns:\n",
      "        try:\n",
      "            itm = data[col].value_counts().index[0]\n",
      "            val = data[col].value_counts().values[0]\n",
      "            items.append(itm)\n",
      "            vals.append(val)\n",
      "        except Exception as ex:\n",
      "            print(ex)\n",
      "            items.append(0)\n",
      "            vals.append(0)\n",
      "            continue\n",
      "    tt['Most frequent item'] = items\n",
      "    tt['Frequence'] = vals\n",
      "    tt['Percent from total'] = np.round(vals / total * 100, 3)\n",
      "    return(np.transpose(tt))\n",
      "\n"
     ]
    }
   ],
   "source": [
    "print(inspect.getsource(most_frequent_values))"
   ]
  },
  {
   "cell_type": "code",
   "execution_count": 17,
   "id": "d1041a45-b197-4fc3-8356-999740ed80dd",
   "metadata": {},
   "outputs": [
    {
     "name": "stdout",
     "output_type": "stream",
     "text": [
      "                      Experience Qualifications Salary Range location  \\\n",
      "Total                    1408970        1408970      1408970  1408970   \n",
      "Most frequent item  5 to 8 Years            BBA    $62K-$82K    Seoul   \n",
      "Frequence                  29760         141518         2673    13203   \n",
      "Percent from total         2.112         10.044         0.19    0.937   \n",
      "\n",
      "                    Country  Work Type Company Size Job Posting Date  \\\n",
      "Total               1408970    1408970      1408970          1408970   \n",
      "Most frequent item  Somalia  Part-Time        83541       2021-11-14   \n",
      "Frequence              6713     282758           28             2081   \n",
      "Percent from total    0.476     20.068        0.002            0.148   \n",
      "\n",
      "                         Job Title                  Role Job Portal  \\\n",
      "Total                      1408970               1408970    1408970   \n",
      "Most frequent item  UX/UI Designer  Interaction Designer   FlexJobs   \n",
      "Frequence                    42446                 17999     113307   \n",
      "Percent from total           3.013                 1.277      8.042   \n",
      "\n",
      "                                                                                                                                                                                                        Job Description  \\\n",
      "Total                                                                                                                                                                                                           1408970   \n",
      "Most frequent item  Interaction Designers specialize in designing user interactions within digital interfaces. They create meaningful and engaging user experiences by considering user behaviors and system responses.   \n",
      "Frequence                                                                                                                                                                                                         17999   \n",
      "Percent from total                                                                                                                                                                                                1.277   \n",
      "\n",
      "                                                                                                                                      Benefits  \\\n",
      "Total                                                                                                                                  1408970   \n",
      "Most frequent item  {'Childcare Assistance, Paid Time Off (PTO), Relocation Assistance, Flexible Work Arrangements, Professional Development'}   \n",
      "Frequence                                                                                                                               141348   \n",
      "Percent from total                                                                                                                      10.032   \n",
      "\n",
      "                                                                                                                                                                                skills  \\\n",
      "Total                                                                                                                                                                          1408970   \n",
      "Most frequent item  Interaction design principles User behavior and psychology Wireframing and prototyping tools Animation and micro-interaction design Collaborative design processes   \n",
      "Frequence                                                                                                                                                                        17999   \n",
      "Percent from total                                                                                                                                                               1.277   \n",
      "\n",
      "                                                                                                                                                                                                                                                  Responsibilities  \\\n",
      "Total                                                                                                                                                                                                                                                      1408970   \n",
      "Most frequent item  Work on interaction design, defining how users interact with digital products and ensuring a seamless user journey. Create wireframes and prototypes to illustrate interactions. Collaborate with developers to implement interaction designs.   \n",
      "Frequence                                                                                                                                                                                                                                                    17999   \n",
      "Percent from total                                                                                                                                                                                                                                           1.277   \n",
      "\n",
      "                       Company  \n",
      "Total                  1408970  \n",
      "Most frequent item  DTE Energy  \n",
      "Frequence                 1702  \n",
      "Percent from total       0.121  \n"
     ]
    }
   ],
   "source": [
    "frequent_values = most_frequent_values(df)\n",
    "print(frequent_values)"
   ]
  },
  {
   "cell_type": "markdown",
   "id": "8d9bd2fb-135c-41f3-92a7-1c6e33a15128",
   "metadata": {},
   "source": [
    "### Function for unique values:"
   ]
  },
  {
   "cell_type": "code",
   "execution_count": 19,
   "id": "8e459574-5d50-432e-b850-712ae17cc76e",
   "metadata": {},
   "outputs": [
    {
     "name": "stdout",
     "output_type": "stream",
     "text": [
      "def unique_values(data):\n",
      "    total = data.count()\n",
      "    tt = pd.DataFrame(total)\n",
      "    tt.columns = ['Total']\n",
      "    uniques = []\n",
      "    unique_vals = {}\n",
      "    for col in data.columns:\n",
      "        unique = data[col].nunique()\n",
      "        uniques.append(unique)\n",
      "        unique_vals[col] = data[col].unique()\n",
      "    tt['Uniques'] = uniques\n",
      "    return(np.transpose(tt))\n",
      "\n"
     ]
    }
   ],
   "source": [
    "print(inspect.getsource(unique_values))"
   ]
  },
  {
   "cell_type": "code",
   "execution_count": 20,
   "id": "8ce5f4b8-6fd2-4bb7-b7d2-2dbe3adf0e33",
   "metadata": {},
   "outputs": [
    {
     "name": "stdout",
     "output_type": "stream",
     "text": [
      "         Experience  Qualifications  Salary Range  location  Country  \\\n",
      "Total       1408970         1408970       1408970   1408970  1408970   \n",
      "Uniques          48              10           561       214      216   \n",
      "\n",
      "         Work Type  Company Size  Job Posting Date  Job Title     Role  \\\n",
      "Total      1408970       1408970           1408970    1408970  1408970   \n",
      "Uniques          5        122188               731        147      376   \n",
      "\n",
      "         Job Portal  Job Description  Benefits   skills  Responsibilities  \\\n",
      "Total       1408970          1408970   1408970  1408970           1408970   \n",
      "Uniques          16              376        11      376               375   \n",
      "\n",
      "         Company  \n",
      "Total    1408970  \n",
      "Uniques      888  \n"
     ]
    }
   ],
   "source": [
    "unique = unique_values(df)\n",
    "print(unique)"
   ]
  },
  {
   "cell_type": "markdown",
   "id": "595bcb3a-b7bd-499f-a2fd-b1f531cd0ccb",
   "metadata": {},
   "source": [
    "## Feature engineering and custom aggregation"
   ]
  },
  {
   "cell_type": "markdown",
   "id": "73b19a96-f2d5-495d-9f98-667bb5e6d572",
   "metadata": {},
   "source": [
    "### Extracting Min, Max, and Average Salary in RON from ranged values using a custom function"
   ]
  },
  {
   "cell_type": "code",
   "execution_count": 23,
   "id": "44f5d6c0-11a8-4cca-b85c-d2fb08b8aec8",
   "metadata": {},
   "outputs": [
    {
     "name": "stdout",
     "output_type": "stream",
     "text": [
      "def salary_interval(row):\n",
      "    salary = row['Salary Range']\n",
      "    separator = \"K\"\n",
      "    min_salary = salary[1:].split(separator)[0]\n",
      "    max_salary = salary.split(separator)[1]\n",
      "    max_salary = max_salary[2:].split(separator)[0]\n",
      "\n",
      "    min_salary = int(min_salary)*1000*4.3\n",
      "    max_salary = int(max_salary)*1000*4.3 #to make it ron\n",
      "    average_salary = int((min_salary+max_salary)/2)\n",
      "    return min_salary, max_salary, average_salary\n",
      "\n"
     ]
    }
   ],
   "source": [
    "print(inspect.getsource(salary_interval))"
   ]
  },
  {
   "cell_type": "code",
   "execution_count": 24,
   "id": "92d1a4e9-3dd7-4d46-9fbb-7ba4e24eb1fe",
   "metadata": {},
   "outputs": [
    {
     "name": "stdout",
     "output_type": "stream",
     "text": [
      "0    253700.0\n",
      "1    240800.0\n",
      "2    262300.0\n",
      "3    279500.0\n",
      "4    275200.0\n",
      "Name: Min_Salary, dtype: float64\n",
      "0    425700.0\n",
      "1    498800.0\n",
      "2    447200.0\n",
      "3    391300.0\n",
      "4    374100.0\n",
      "Name: Max_Salary, dtype: float64\n",
      "0    339700.0\n",
      "1    369800.0\n",
      "2    354750.0\n",
      "3    335400.0\n",
      "4    324650.0\n",
      "Name: Average_Salary, dtype: float64\n"
     ]
    }
   ],
   "source": [
    "df[['Min_Salary','Max_Salary','Average_Salary']] = df.apply(salary_interval, axis=1, result_type='expand')\n",
    "print(df['Min_Salary'].head())\n",
    "print(df['Max_Salary'].head())\n",
    "print(df['Average_Salary'].head())"
   ]
  },
  {
   "cell_type": "markdown",
   "id": "cf7909ec-7ce8-4ee1-8e67-bb93fc1724e7",
   "metadata": {
    "jp-MarkdownHeadingCollapsed": true
   },
   "source": [
    "### Analyzing unique salaries and how diverse the average salary, min salary, max salary values are "
   ]
  },
  {
   "cell_type": "code",
   "execution_count": 26,
   "id": "dc23d125-9f96-4833-8630-06e42538f7da",
   "metadata": {
    "editable": true,
    "slideshow": {
     "slide_type": ""
    },
    "tags": []
   },
   "outputs": [
    {
     "data": {
      "text/plain": [
       "array([339700., 369800., 354750., 335400., 324650., 326800., 356900.,\n",
       "       359050., 301000., 346150., 348300., 402050., 305300., 333250.,\n",
       "       307450., 378400., 414950., 391300., 374100., 399900., 352600.,\n",
       "       316050., 320350., 395600., 296700., 387000., 382700., 412800.,\n",
       "       337550., 298850., 410650., 344000., 417100., 318200., 331100.,\n",
       "       406350., 371950., 328950., 322500., 380550., 313900., 389150.,\n",
       "       393450., 303150., 384850., 341850., 404200., 397750., 361200.,\n",
       "       363350., 408500., 367650., 365500., 350450., 376250., 311750.,\n",
       "       309600., 292400., 294550., 290250., 419250.])"
      ]
     },
     "execution_count": 26,
     "metadata": {},
     "output_type": "execute_result"
    }
   ],
   "source": [
    "df['Average_Salary'].unique()"
   ]
  },
  {
   "cell_type": "code",
   "execution_count": 27,
   "id": "0c5d6a27-76e7-4efd-a7fc-b01123dedec2",
   "metadata": {},
   "outputs": [
    {
     "data": {
      "text/plain": [
       "Average_Salary\n",
       "290250.0     2549\n",
       "292400.0     5111\n",
       "294550.0     7601\n",
       "296700.0    10089\n",
       "298850.0    12591\n",
       "301000.0    14988\n",
       "303150.0    17487\n",
       "305300.0    20148\n",
       "307450.0    22492\n",
       "309600.0    25324\n",
       "311750.0    27807\n",
       "313900.0    27520\n",
       "316050.0    27955\n",
       "318200.0    27583\n",
       "320350.0    27645\n",
       "322500.0    27464\n",
       "324650.0    27676\n",
       "326800.0    28117\n",
       "328950.0    27344\n",
       "331100.0    27709\n",
       "333250.0    27865\n",
       "335400.0    27575\n",
       "337550.0    27610\n",
       "339700.0    27853\n",
       "341850.0    27790\n",
       "344000.0    27713\n",
       "346150.0    27547\n",
       "348300.0    27444\n",
       "350450.0    27641\n",
       "352600.0    27503\n",
       "354750.0    27509\n",
       "356900.0    27693\n",
       "359050.0    27739\n",
       "361200.0    27581\n",
       "363350.0    27522\n",
       "365500.0    27543\n",
       "367650.0    27637\n",
       "369800.0    27592\n",
       "371950.0    27862\n",
       "374100.0    27587\n",
       "376250.0    27375\n",
       "378400.0    27432\n",
       "380550.0    27806\n",
       "382700.0    27427\n",
       "384850.0    27578\n",
       "387000.0    27329\n",
       "389150.0    27716\n",
       "391300.0    27506\n",
       "393450.0    27439\n",
       "395600.0    27822\n",
       "397750.0    27612\n",
       "399900.0    24897\n",
       "402050.0    22654\n",
       "404200.0    20102\n",
       "406350.0    17487\n",
       "408500.0    14912\n",
       "410650.0    12542\n",
       "412800.0    10161\n",
       "414950.0     7570\n",
       "417100.0     5070\n",
       "419250.0     2527\n",
       "Name: count, dtype: int64"
      ]
     },
     "execution_count": 27,
     "metadata": {},
     "output_type": "execute_result"
    }
   ],
   "source": [
    "df['Average_Salary'].value_counts().sort_index()"
   ]
  },
  {
   "cell_type": "code",
   "execution_count": 28,
   "id": "71352837-b2d3-4e43-976f-b9e4d8839d4e",
   "metadata": {},
   "outputs": [
    {
     "data": {
      "text/plain": [
       "array([253700., 240800., 262300., 279500., 275200., 270900., 258000.,\n",
       "       245100., 236500., 266600., 249400.])"
      ]
     },
     "execution_count": 28,
     "metadata": {},
     "output_type": "execute_result"
    }
   ],
   "source": [
    "df['Min_Salary'].unique()"
   ]
  },
  {
   "cell_type": "code",
   "execution_count": 29,
   "id": "c435cb7a-d873-4f9d-b689-565bad95b5f6",
   "metadata": {},
   "outputs": [
    {
     "data": {
      "text/plain": [
       "Min_Salary\n",
       "236500.0    128684\n",
       "240800.0    127772\n",
       "245100.0    127509\n",
       "249400.0    127870\n",
       "253700.0    128193\n",
       "258000.0    127785\n",
       "262300.0    128112\n",
       "266600.0    128247\n",
       "270900.0    127834\n",
       "275200.0    128310\n",
       "279500.0    128654\n",
       "Name: count, dtype: int64"
      ]
     },
     "execution_count": 29,
     "metadata": {},
     "output_type": "execute_result"
    }
   ],
   "source": [
    "df['Min_Salary'].value_counts().sort_index()"
   ]
  },
  {
   "cell_type": "code",
   "execution_count": 30,
   "id": "9df77b4c-b693-4a21-996e-abef930f9b28",
   "metadata": {},
   "outputs": [
    {
     "data": {
      "text/plain": [
       "array([425700., 498800., 447200., 391300., 374100., 399900., 442900.,\n",
       "       438600., 344000., 421400., 524600., 369800., 430000., 356900.,\n",
       "       503100., 520300., 550400., 516000., 533200., 460100., 378400.,\n",
       "       511700., 494500., 352600., 559000., 554700., 382700., 348300.,\n",
       "       468700., 408500., 417100., 546100., 451500., 528900., 490200.,\n",
       "       395600., 537500., 477300., 404200., 361200., 412800., 434300.,\n",
       "       485900., 455800., 541800., 464400., 365500., 507400., 481600.,\n",
       "       387000., 473000.])"
      ]
     },
     "execution_count": 30,
     "metadata": {},
     "output_type": "execute_result"
    }
   ],
   "source": [
    "df['Max_Salary'].unique()"
   ]
  },
  {
   "cell_type": "code",
   "execution_count": 31,
   "id": "8e31ca33-6db7-4bad-ac24-cf835fe8cfd3",
   "metadata": {},
   "outputs": [
    {
     "data": {
      "text/plain": [
       "Max_Salary\n",
       "344000.0    27845\n",
       "348300.0    27692\n",
       "352600.0    27655\n",
       "356900.0    27447\n",
       "361200.0    27788\n",
       "365500.0    27756\n",
       "369800.0    27420\n",
       "374100.0    27575\n",
       "378400.0    27602\n",
       "382700.0    27724\n",
       "387000.0    27822\n",
       "391300.0    27823\n",
       "395600.0    27521\n",
       "399900.0    27755\n",
       "404200.0    27512\n",
       "408500.0    27914\n",
       "412800.0    27909\n",
       "417100.0    27755\n",
       "421400.0    27581\n",
       "425700.0    27725\n",
       "430000.0    27794\n",
       "434300.0    27923\n",
       "438600.0    27599\n",
       "442900.0    27543\n",
       "447200.0    27671\n",
       "451500.0    27285\n",
       "455800.0    27608\n",
       "460100.0    27899\n",
       "464400.0    27491\n",
       "468700.0    27759\n",
       "473000.0    27574\n",
       "477300.0    27397\n",
       "481600.0    27499\n",
       "485900.0    27357\n",
       "490200.0    27636\n",
       "494500.0    27450\n",
       "498800.0    27623\n",
       "503100.0    27545\n",
       "507400.0    27466\n",
       "511700.0    27729\n",
       "516000.0    27576\n",
       "520300.0    27482\n",
       "524600.0    27506\n",
       "528900.0    27623\n",
       "533200.0    27557\n",
       "537500.0    27584\n",
       "541800.0    27507\n",
       "546100.0    27520\n",
       "550400.0    27730\n",
       "554700.0    27571\n",
       "559000.0    27645\n",
       "Name: count, dtype: int64"
      ]
     },
     "execution_count": 31,
     "metadata": {},
     "output_type": "execute_result"
    }
   ],
   "source": [
    "df['Max_Salary'].value_counts().sort_index()"
   ]
  },
  {
   "cell_type": "markdown",
   "id": "4cb200b1-59d5-4a3c-964d-135bdc9f6ea9",
   "metadata": {},
   "source": [
    "### After calculating the average salary, I converted it into a **categorical variable** by splitting the values into 3 classes: (percentile-based binning)\n",
    "- `Small` – salaries below the 33.33rd percentile\n",
    "- `Medium` – salaries between 33.33rd percentile and 66.67th percentile\n",
    "- `High` – salaries above 66.67th percentile"
   ]
  },
  {
   "cell_type": "markdown",
   "id": "c67826f3-87c7-4875-9382-6902b8723d5c",
   "metadata": {},
   "source": [
    "The custom function I used:"
   ]
  },
  {
   "cell_type": "code",
   "execution_count": 34,
   "id": "55757c88-e351-4f40-a476-f0e21235a777",
   "metadata": {},
   "outputs": [
    {
     "name": "stdout",
     "output_type": "stream",
     "text": [
      "def tercile_label(s,low_33,high_67):\n",
      "    if s <= low_33:\n",
      "        return 'Low'\n",
      "    elif s <= high_67:\n",
      "        return 'Medium'\n",
      "    else:\n",
      "        return 'High'\n",
      "\n"
     ]
    }
   ],
   "source": [
    "print(inspect.getsource(tercile_label))"
   ]
  },
  {
   "cell_type": "code",
   "execution_count": 35,
   "id": "3eb08da1-e401-4e05-afe1-0df52d2a5e0a",
   "metadata": {
    "editable": true,
    "slideshow": {
     "slide_type": ""
    },
    "tags": []
   },
   "outputs": [
    {
     "data": {
      "text/html": [
       "<div>\n",
       "<style scoped>\n",
       "    .dataframe tbody tr th:only-of-type {\n",
       "        vertical-align: middle;\n",
       "    }\n",
       "\n",
       "    .dataframe tbody tr th {\n",
       "        vertical-align: top;\n",
       "    }\n",
       "\n",
       "    .dataframe thead th {\n",
       "        text-align: right;\n",
       "    }\n",
       "</style>\n",
       "<table border=\"1\" class=\"dataframe\">\n",
       "  <thead>\n",
       "    <tr style=\"text-align: right;\">\n",
       "      <th></th>\n",
       "      <th>Salary_Tercile</th>\n",
       "      <th>Average_Salary</th>\n",
       "    </tr>\n",
       "  </thead>\n",
       "  <tbody>\n",
       "    <tr>\n",
       "      <th>0</th>\n",
       "      <td>Medium</td>\n",
       "      <td>339700.0</td>\n",
       "    </tr>\n",
       "    <tr>\n",
       "      <th>1</th>\n",
       "      <td>Medium</td>\n",
       "      <td>369800.0</td>\n",
       "    </tr>\n",
       "    <tr>\n",
       "      <th>2</th>\n",
       "      <td>Medium</td>\n",
       "      <td>354750.0</td>\n",
       "    </tr>\n",
       "    <tr>\n",
       "      <th>3</th>\n",
       "      <td>Low</td>\n",
       "      <td>335400.0</td>\n",
       "    </tr>\n",
       "    <tr>\n",
       "      <th>4</th>\n",
       "      <td>Low</td>\n",
       "      <td>324650.0</td>\n",
       "    </tr>\n",
       "  </tbody>\n",
       "</table>\n",
       "</div>"
      ],
      "text/plain": [
       "  Salary_Tercile  Average_Salary\n",
       "0         Medium        339700.0\n",
       "1         Medium        369800.0\n",
       "2         Medium        354750.0\n",
       "3            Low        335400.0\n",
       "4            Low        324650.0"
      ]
     },
     "execution_count": 35,
     "metadata": {},
     "output_type": "execute_result"
    }
   ],
   "source": [
    "low_33, high_67 = np.percentile(df['Average_Salary'], [33.33, 66.67])\n",
    "df['Salary_Tercile'] = df['Average_Salary'].apply(tercile_label,args=(low_33, high_67))\n",
    "df[['Salary_Tercile','Average_Salary']].head()"
   ]
  },
  {
   "cell_type": "markdown",
   "id": "2aec7ed1-fbc4-4978-b519-d00bc3662d61",
   "metadata": {},
   "source": [
    "### Because most models learn better using numerical encoding, I'm going to map Low,Medium,High to 0/1/2"
   ]
  },
  {
   "cell_type": "code",
   "execution_count": 37,
   "id": "8690dc36-c2cc-4e63-b7f7-1faffc83b833",
   "metadata": {},
   "outputs": [],
   "source": [
    "encoding_map = {'Low': 0, 'Medium': 1, 'High': 2}\n",
    "df[\"Salary\"] = df[\"Salary_Tercile\"].map(encoding_map)"
   ]
  },
  {
   "cell_type": "markdown",
   "id": "89456733-73dd-4d5d-813f-58b4b628f381",
   "metadata": {},
   "source": [
    "### Deleted Salary Range column because it's not useful anymore"
   ]
  },
  {
   "cell_type": "code",
   "execution_count": 39,
   "id": "8bd67371-9da9-46e9-a339-270db4358a94",
   "metadata": {},
   "outputs": [
    {
     "data": {
      "text/plain": [
       "Index(['Experience', 'Qualifications', 'Salary Range', 'location', 'Country',\n",
       "       'Work Type', 'Company Size', 'Job Posting Date', 'Job Title', 'Role',\n",
       "       'Job Portal', 'Job Description', 'Benefits', 'skills',\n",
       "       'Responsibilities', 'Company', 'Min_Salary', 'Max_Salary',\n",
       "       'Average_Salary', 'Salary_Tercile', 'Salary'],\n",
       "      dtype='object')"
      ]
     },
     "execution_count": 39,
     "metadata": {},
     "output_type": "execute_result"
    }
   ],
   "source": [
    "df.columns"
   ]
  },
  {
   "cell_type": "code",
   "execution_count": 40,
   "id": "ff562d11-e1a9-4488-a659-94fda95dd59f",
   "metadata": {},
   "outputs": [],
   "source": [
    "df = df.drop(['Salary Range','Salary_Tercile'], axis=1)"
   ]
  },
  {
   "cell_type": "markdown",
   "id": "782d712e-b3e6-452e-bfdb-35ad82d4e6b0",
   "metadata": {},
   "source": [
    "## One-Hot Encoding of Multi-Label Benefits"
   ]
  },
  {
   "cell_type": "markdown",
   "id": "4e794f22-2226-4e1a-90aa-a14e1957df24",
   "metadata": {},
   "source": [
    "### The original `Benefits` column contains multiple benefits listed as strings separated by commas (e.g., `\"Parental Leave, Profit-sharing, Paid Time Off\"`).\n",
    "I want to parse the benefits and put them in separate binary columns.\n",
    "This encoding allows machine learning models to easily interpret the presence or absence of each benefit independently."
   ]
  },
  {
   "cell_type": "markdown",
   "id": "c473ab7a-962a-4581-a487-329236690048",
   "metadata": {},
   "source": [
    "### One-hot encoded representation for Benefits column"
   ]
  },
  {
   "cell_type": "code",
   "execution_count": 44,
   "id": "1dba0044-403b-4428-b8e6-8fa9bb8ef719",
   "metadata": {},
   "outputs": [],
   "source": [
    "# 1. Create the 'Benefits list' column by parsing the 'Benefits' column\n",
    "df['Benefits list'] = df['Benefits'].apply(parse_benefits_string)\n",
    "\n",
    "# 2. Perform One-Hot Encoding\n",
    "# Explode the 'Benefits list' column to get individual benefits in rows\n",
    "df_exploded = df.explode('Benefits list')\n",
    "\n",
    "# Create dummy variables (one-hot encode) from the exploded benefits\n",
    "benefits_dummies = pd.get_dummies(df_exploded['Benefits list'], prefix='', prefix_sep='')\n",
    "\n",
    "# Group back by the original DataFrame index and sum the dummy variables\n",
    "benefits_dummies = benefits_dummies.groupby(level=0).sum()\n",
    "\n",
    "# 3. Prepare the main DataFrame and join the new columns\n",
    "# Crucially, drop the original 'Benefits' and the intermediate 'Benefits list' columns\n",
    "# from 'df' before joining to prevent column name conflicts.\n",
    "df = df.drop(columns=['Benefits', 'Benefits list'])\n",
    "\n",
    "# Join the one-hot encoded benefit columns to the cleaned DataFrame\n",
    "df = df.join(benefits_dummies)\n"
   ]
  },
  {
   "cell_type": "markdown",
   "id": "8a1361ab-b4c9-4b00-921e-7e72ac01804f",
   "metadata": {},
   "source": [
    "### Save the changes I made so far to the dataset using this function:"
   ]
  },
  {
   "cell_type": "code",
   "execution_count": 46,
   "id": "5d2f6e1d-36b1-4da1-bba7-2fffeb17ce30",
   "metadata": {},
   "outputs": [
    {
     "name": "stdout",
     "output_type": "stream",
     "text": [
      "def save_changes(data, filename=\"data.csv\"):\n",
      "    data.to_csv(filename, index=False)\n",
      "    return data\n",
      "\n"
     ]
    }
   ],
   "source": [
    "print(inspect.getsource(save_changes))"
   ]
  },
  {
   "cell_type": "code",
   "execution_count": 47,
   "id": "c9aea42a-e9b6-4eb7-ba43-cf322bd2763c",
   "metadata": {},
   "outputs": [],
   "source": [
    "df = save_changes(df)"
   ]
  },
  {
   "cell_type": "code",
   "execution_count": 48,
   "id": "75da2b10-fcb8-4c1d-b7cd-a2b7e932f4c7",
   "metadata": {},
   "outputs": [
    {
     "data": {
      "text/html": [
       "<div>\n",
       "<style scoped>\n",
       "    .dataframe tbody tr th:only-of-type {\n",
       "        vertical-align: middle;\n",
       "    }\n",
       "\n",
       "    .dataframe tbody tr th {\n",
       "        vertical-align: top;\n",
       "    }\n",
       "\n",
       "    .dataframe thead th {\n",
       "        text-align: right;\n",
       "    }\n",
       "</style>\n",
       "<table border=\"1\" class=\"dataframe\">\n",
       "  <thead>\n",
       "    <tr style=\"text-align: right;\">\n",
       "      <th></th>\n",
       "      <th>Experience</th>\n",
       "      <th>Qualifications</th>\n",
       "      <th>location</th>\n",
       "      <th>Country</th>\n",
       "      <th>Work Type</th>\n",
       "      <th>Company Size</th>\n",
       "      <th>Job Posting Date</th>\n",
       "      <th>Job Title</th>\n",
       "      <th>Role</th>\n",
       "      <th>Job Portal</th>\n",
       "      <th>Job Description</th>\n",
       "      <th>skills</th>\n",
       "      <th>Responsibilities</th>\n",
       "      <th>Company</th>\n",
       "      <th>Min_Salary</th>\n",
       "      <th>Max_Salary</th>\n",
       "      <th>Average_Salary</th>\n",
       "      <th>Salary</th>\n",
       "      <th>Bonuses and Incentive Programs</th>\n",
       "      <th>Casual Dress Code</th>\n",
       "      <th>Childcare Assistance</th>\n",
       "      <th>Employee Assistance Programs (EAP)</th>\n",
       "      <th>Employee Discounts</th>\n",
       "      <th>Employee Recognition Programs</th>\n",
       "      <th>Employee Referral Programs</th>\n",
       "      <th>Financial Counseling</th>\n",
       "      <th>Flexible Spending Accounts (FSAs)</th>\n",
       "      <th>Flexible Work Arrangements</th>\n",
       "      <th>Health Insurance</th>\n",
       "      <th>Health and Wellness Facilities</th>\n",
       "      <th>Legal Assistance</th>\n",
       "      <th>Life and Disability Insurance</th>\n",
       "      <th>Paid Time Off (PTO)</th>\n",
       "      <th>Parental Leave</th>\n",
       "      <th>Professional Development</th>\n",
       "      <th>Profit-Sharing</th>\n",
       "      <th>Relocation Assistance</th>\n",
       "      <th>Retirement Plans</th>\n",
       "      <th>Social and Recreational Activities</th>\n",
       "      <th>Stock Options or Equity Grants</th>\n",
       "      <th>Transportation Benefits</th>\n",
       "      <th>Tuition Reimbursement</th>\n",
       "      <th>Wellness Programs</th>\n",
       "    </tr>\n",
       "  </thead>\n",
       "  <tbody>\n",
       "    <tr>\n",
       "      <th>0</th>\n",
       "      <td>5 to 15 Years</td>\n",
       "      <td>M.Tech</td>\n",
       "      <td>Douglas</td>\n",
       "      <td>Isle of Man</td>\n",
       "      <td>Intern</td>\n",
       "      <td>26801</td>\n",
       "      <td>2022-04-24</td>\n",
       "      <td>Digital Marketing Specialist</td>\n",
       "      <td>Social Media Manager</td>\n",
       "      <td>Snagajob</td>\n",
       "      <td>Social Media Managers oversee an organizations social media presence. They create and schedule content, engage with followers, and analyze social media metrics to drive brand awareness and engagement.</td>\n",
       "      <td>Social media platforms (e.g., Facebook, Twitter, Instagram) Content creation and scheduling Social media analytics and insights Community engagement Paid social advertising</td>\n",
       "      <td>Manage and grow social media accounts, create engaging content, and interact with the online community. Develop social media content calendars and strategies. Monitor social media trends and engagement metrics.</td>\n",
       "      <td>Icahn Enterprises</td>\n",
       "      <td>253700.0</td>\n",
       "      <td>425700.0</td>\n",
       "      <td>339700.0</td>\n",
       "      <td>1</td>\n",
       "      <td>0</td>\n",
       "      <td>0</td>\n",
       "      <td>0</td>\n",
       "      <td>0</td>\n",
       "      <td>0</td>\n",
       "      <td>1</td>\n",
       "      <td>0</td>\n",
       "      <td>1</td>\n",
       "      <td>1</td>\n",
       "      <td>0</td>\n",
       "      <td>0</td>\n",
       "      <td>0</td>\n",
       "      <td>1</td>\n",
       "      <td>0</td>\n",
       "      <td>0</td>\n",
       "      <td>0</td>\n",
       "      <td>0</td>\n",
       "      <td>0</td>\n",
       "      <td>1</td>\n",
       "      <td>0</td>\n",
       "      <td>0</td>\n",
       "      <td>0</td>\n",
       "      <td>0</td>\n",
       "      <td>0</td>\n",
       "      <td>0</td>\n",
       "    </tr>\n",
       "    <tr>\n",
       "      <th>1</th>\n",
       "      <td>2 to 12 Years</td>\n",
       "      <td>BCA</td>\n",
       "      <td>Ashgabat</td>\n",
       "      <td>Turkmenistan</td>\n",
       "      <td>Intern</td>\n",
       "      <td>100340</td>\n",
       "      <td>2022-12-19</td>\n",
       "      <td>Web Developer</td>\n",
       "      <td>Frontend Web Developer</td>\n",
       "      <td>Idealist</td>\n",
       "      <td>Frontend Web Developers design and implement user interfaces for websites, ensuring they are visually appealing and user-friendly. They collaborate with designers and backend developers to create seamless web experiences for users.</td>\n",
       "      <td>HTML, CSS, JavaScript Frontend frameworks (e.g., React, Angular) User experience (UX)</td>\n",
       "      <td>Design and code user interfaces for websites, ensuring a seamless and visually appealing user experience. Collaborate with UX designers to optimize user journeys. Ensure cross-browser compatibility and responsive design.</td>\n",
       "      <td>PNC Financial Services Group</td>\n",
       "      <td>240800.0</td>\n",
       "      <td>498800.0</td>\n",
       "      <td>369800.0</td>\n",
       "      <td>1</td>\n",
       "      <td>0</td>\n",
       "      <td>0</td>\n",
       "      <td>0</td>\n",
       "      <td>1</td>\n",
       "      <td>0</td>\n",
       "      <td>0</td>\n",
       "      <td>0</td>\n",
       "      <td>0</td>\n",
       "      <td>0</td>\n",
       "      <td>1</td>\n",
       "      <td>1</td>\n",
       "      <td>0</td>\n",
       "      <td>0</td>\n",
       "      <td>0</td>\n",
       "      <td>1</td>\n",
       "      <td>0</td>\n",
       "      <td>0</td>\n",
       "      <td>0</td>\n",
       "      <td>0</td>\n",
       "      <td>1</td>\n",
       "      <td>0</td>\n",
       "      <td>0</td>\n",
       "      <td>0</td>\n",
       "      <td>0</td>\n",
       "      <td>0</td>\n",
       "    </tr>\n",
       "    <tr>\n",
       "      <th>2</th>\n",
       "      <td>0 to 12 Years</td>\n",
       "      <td>PhD</td>\n",
       "      <td>Macao</td>\n",
       "      <td>Macao SAR, China</td>\n",
       "      <td>Temporary</td>\n",
       "      <td>84525</td>\n",
       "      <td>2022-09-14</td>\n",
       "      <td>Operations Manager</td>\n",
       "      <td>Quality Control Manager</td>\n",
       "      <td>Jobs2Careers</td>\n",
       "      <td>Quality Control Managers establish and enforce quality standards within an organization. They develop quality control processes, perform inspections, and implement corrective actions to maintain product or service quality.</td>\n",
       "      <td>Quality control processes and methodologies Statistical process control (SPC) Root cause analysis and corrective action Quality management systems (e.g., ISO 9001) Compliance and regulatory knowledge</td>\n",
       "      <td>Establish and enforce quality control standards and procedures. Conduct quality audits and inspections. Collaborate with production teams to address quality issues and implement improvements.</td>\n",
       "      <td>United Services Automobile Assn.</td>\n",
       "      <td>262300.0</td>\n",
       "      <td>447200.0</td>\n",
       "      <td>354750.0</td>\n",
       "      <td>1</td>\n",
       "      <td>1</td>\n",
       "      <td>0</td>\n",
       "      <td>0</td>\n",
       "      <td>0</td>\n",
       "      <td>1</td>\n",
       "      <td>0</td>\n",
       "      <td>0</td>\n",
       "      <td>0</td>\n",
       "      <td>0</td>\n",
       "      <td>0</td>\n",
       "      <td>0</td>\n",
       "      <td>0</td>\n",
       "      <td>1</td>\n",
       "      <td>0</td>\n",
       "      <td>0</td>\n",
       "      <td>0</td>\n",
       "      <td>0</td>\n",
       "      <td>0</td>\n",
       "      <td>0</td>\n",
       "      <td>1</td>\n",
       "      <td>0</td>\n",
       "      <td>0</td>\n",
       "      <td>0</td>\n",
       "      <td>0</td>\n",
       "      <td>1</td>\n",
       "    </tr>\n",
       "    <tr>\n",
       "      <th>3</th>\n",
       "      <td>4 to 11 Years</td>\n",
       "      <td>PhD</td>\n",
       "      <td>Porto-Novo</td>\n",
       "      <td>Benin</td>\n",
       "      <td>Full-Time</td>\n",
       "      <td>129896</td>\n",
       "      <td>2023-02-25</td>\n",
       "      <td>Network Engineer</td>\n",
       "      <td>Wireless Network Engineer</td>\n",
       "      <td>FlexJobs</td>\n",
       "      <td>Wireless Network Engineers design, implement, and maintain wireless network solutions. They optimize wireless connectivity, troubleshoot issues, and ensure reliable and secure wireless communications.</td>\n",
       "      <td>Wireless network design and architecture Wi-Fi standards and protocols RF (Radio Frequency) planning and optimization Wireless security protocols Troubleshooting wireless network issues</td>\n",
       "      <td>Design, configure, and optimize wireless networks, ensuring reliable and secure wireless connectivity. Troubleshoot wireless network issues. Plan and implement wireless network upgrades.</td>\n",
       "      <td>Hess</td>\n",
       "      <td>279500.0</td>\n",
       "      <td>391300.0</td>\n",
       "      <td>335400.0</td>\n",
       "      <td>0</td>\n",
       "      <td>1</td>\n",
       "      <td>0</td>\n",
       "      <td>0</td>\n",
       "      <td>0</td>\n",
       "      <td>1</td>\n",
       "      <td>0</td>\n",
       "      <td>0</td>\n",
       "      <td>0</td>\n",
       "      <td>0</td>\n",
       "      <td>0</td>\n",
       "      <td>0</td>\n",
       "      <td>0</td>\n",
       "      <td>0</td>\n",
       "      <td>0</td>\n",
       "      <td>0</td>\n",
       "      <td>0</td>\n",
       "      <td>1</td>\n",
       "      <td>1</td>\n",
       "      <td>0</td>\n",
       "      <td>0</td>\n",
       "      <td>0</td>\n",
       "      <td>0</td>\n",
       "      <td>1</td>\n",
       "      <td>0</td>\n",
       "      <td>0</td>\n",
       "    </tr>\n",
       "    <tr>\n",
       "      <th>4</th>\n",
       "      <td>1 to 12 Years</td>\n",
       "      <td>MBA</td>\n",
       "      <td>Santiago</td>\n",
       "      <td>Chile</td>\n",
       "      <td>Intern</td>\n",
       "      <td>53944</td>\n",
       "      <td>2022-10-11</td>\n",
       "      <td>Event Manager</td>\n",
       "      <td>Conference Manager</td>\n",
       "      <td>Jobs2Careers</td>\n",
       "      <td>A Conference Manager coordinates and manages conferences, meetings, and events. They plan logistics, handle budgeting, liaise with vendors, and ensure the smooth execution of events, catering to the needs and expectations of attendees.</td>\n",
       "      <td>Event planning Conference logistics Budget management Vendor coordination Marketing and promotion Client relations</td>\n",
       "      <td>Specialize in conference and convention planning. Coordinate speaker sessions, exhibitors, and attendee experiences. Oversee event registration and marketing.</td>\n",
       "      <td>Cairn Energy</td>\n",
       "      <td>275200.0</td>\n",
       "      <td>374100.0</td>\n",
       "      <td>324650.0</td>\n",
       "      <td>0</td>\n",
       "      <td>0</td>\n",
       "      <td>0</td>\n",
       "      <td>0</td>\n",
       "      <td>0</td>\n",
       "      <td>0</td>\n",
       "      <td>1</td>\n",
       "      <td>0</td>\n",
       "      <td>1</td>\n",
       "      <td>1</td>\n",
       "      <td>0</td>\n",
       "      <td>0</td>\n",
       "      <td>0</td>\n",
       "      <td>1</td>\n",
       "      <td>0</td>\n",
       "      <td>0</td>\n",
       "      <td>0</td>\n",
       "      <td>0</td>\n",
       "      <td>0</td>\n",
       "      <td>1</td>\n",
       "      <td>0</td>\n",
       "      <td>0</td>\n",
       "      <td>0</td>\n",
       "      <td>0</td>\n",
       "      <td>0</td>\n",
       "      <td>0</td>\n",
       "    </tr>\n",
       "  </tbody>\n",
       "</table>\n",
       "</div>"
      ],
      "text/plain": [
       "      Experience Qualifications    location           Country  Work Type  \\\n",
       "0  5 to 15 Years         M.Tech     Douglas       Isle of Man     Intern   \n",
       "1  2 to 12 Years            BCA    Ashgabat      Turkmenistan     Intern   \n",
       "2  0 to 12 Years            PhD       Macao  Macao SAR, China  Temporary   \n",
       "3  4 to 11 Years            PhD  Porto-Novo             Benin  Full-Time   \n",
       "4  1 to 12 Years            MBA    Santiago             Chile     Intern   \n",
       "\n",
       "   Company Size Job Posting Date                     Job Title  \\\n",
       "0         26801       2022-04-24  Digital Marketing Specialist   \n",
       "1        100340       2022-12-19                 Web Developer   \n",
       "2         84525       2022-09-14            Operations Manager   \n",
       "3        129896       2023-02-25              Network Engineer   \n",
       "4         53944       2022-10-11                 Event Manager   \n",
       "\n",
       "                        Role    Job Portal  \\\n",
       "0       Social Media Manager      Snagajob   \n",
       "1     Frontend Web Developer      Idealist   \n",
       "2    Quality Control Manager  Jobs2Careers   \n",
       "3  Wireless Network Engineer      FlexJobs   \n",
       "4         Conference Manager  Jobs2Careers   \n",
       "\n",
       "                                                                                                                                                                                                                               Job Description  \\\n",
       "0                                     Social Media Managers oversee an organizations social media presence. They create and schedule content, engage with followers, and analyze social media metrics to drive brand awareness and engagement.   \n",
       "1      Frontend Web Developers design and implement user interfaces for websites, ensuring they are visually appealing and user-friendly. They collaborate with designers and backend developers to create seamless web experiences for users.   \n",
       "2               Quality Control Managers establish and enforce quality standards within an organization. They develop quality control processes, perform inspections, and implement corrective actions to maintain product or service quality.   \n",
       "3                                     Wireless Network Engineers design, implement, and maintain wireless network solutions. They optimize wireless connectivity, troubleshoot issues, and ensure reliable and secure wireless communications.   \n",
       "4  A Conference Manager coordinates and manages conferences, meetings, and events. They plan logistics, handle budgeting, liaise with vendors, and ensure the smooth execution of events, catering to the needs and expectations of attendees.   \n",
       "\n",
       "                                                                                                                                                                                                    skills  \\\n",
       "0                             Social media platforms (e.g., Facebook, Twitter, Instagram) Content creation and scheduling Social media analytics and insights Community engagement Paid social advertising   \n",
       "1                                                                                                                    HTML, CSS, JavaScript Frontend frameworks (e.g., React, Angular) User experience (UX)   \n",
       "2  Quality control processes and methodologies Statistical process control (SPC) Root cause analysis and corrective action Quality management systems (e.g., ISO 9001) Compliance and regulatory knowledge   \n",
       "3                Wireless network design and architecture Wi-Fi standards and protocols RF (Radio Frequency) planning and optimization Wireless security protocols Troubleshooting wireless network issues   \n",
       "4                                                                                       Event planning Conference logistics Budget management Vendor coordination Marketing and promotion Client relations   \n",
       "\n",
       "                                                                                                                                                                                                               Responsibilities  \\\n",
       "0            Manage and grow social media accounts, create engaging content, and interact with the online community. Develop social media content calendars and strategies. Monitor social media trends and engagement metrics.   \n",
       "1  Design and code user interfaces for websites, ensuring a seamless and visually appealing user experience. Collaborate with UX designers to optimize user journeys. Ensure cross-browser compatibility and responsive design.   \n",
       "2                               Establish and enforce quality control standards and procedures. Conduct quality audits and inspections. Collaborate with production teams to address quality issues and implement improvements.   \n",
       "3                                    Design, configure, and optimize wireless networks, ensuring reliable and secure wireless connectivity. Troubleshoot wireless network issues. Plan and implement wireless network upgrades.   \n",
       "4                                                                Specialize in conference and convention planning. Coordinate speaker sessions, exhibitors, and attendee experiences. Oversee event registration and marketing.   \n",
       "\n",
       "                            Company  Min_Salary  Max_Salary  Average_Salary  \\\n",
       "0                 Icahn Enterprises    253700.0    425700.0        339700.0   \n",
       "1      PNC Financial Services Group    240800.0    498800.0        369800.0   \n",
       "2  United Services Automobile Assn.    262300.0    447200.0        354750.0   \n",
       "3                              Hess    279500.0    391300.0        335400.0   \n",
       "4                      Cairn Energy    275200.0    374100.0        324650.0   \n",
       "\n",
       "   Salary  Bonuses and Incentive Programs  Casual Dress Code  \\\n",
       "0       1                               0                  0   \n",
       "1       1                               0                  0   \n",
       "2       1                               1                  0   \n",
       "3       0                               1                  0   \n",
       "4       0                               0                  0   \n",
       "\n",
       "   Childcare Assistance  Employee Assistance Programs (EAP)  \\\n",
       "0                     0                                   0   \n",
       "1                     0                                   1   \n",
       "2                     0                                   0   \n",
       "3                     0                                   0   \n",
       "4                     0                                   0   \n",
       "\n",
       "   Employee Discounts  Employee Recognition Programs  \\\n",
       "0                   0                              1   \n",
       "1                   0                              0   \n",
       "2                   1                              0   \n",
       "3                   1                              0   \n",
       "4                   0                              1   \n",
       "\n",
       "   Employee Referral Programs  Financial Counseling  \\\n",
       "0                           0                     1   \n",
       "1                           0                     0   \n",
       "2                           0                     0   \n",
       "3                           0                     0   \n",
       "4                           0                     1   \n",
       "\n",
       "   Flexible Spending Accounts (FSAs)  Flexible Work Arrangements  \\\n",
       "0                                  1                           0   \n",
       "1                                  0                           1   \n",
       "2                                  0                           0   \n",
       "3                                  0                           0   \n",
       "4                                  1                           0   \n",
       "\n",
       "   Health Insurance  Health and Wellness Facilities  Legal Assistance  \\\n",
       "0                 0                               0                 1   \n",
       "1                 1                               0                 0   \n",
       "2                 0                               0                 1   \n",
       "3                 0                               0                 0   \n",
       "4                 0                               0                 1   \n",
       "\n",
       "   Life and Disability Insurance  Paid Time Off (PTO)  Parental Leave  \\\n",
       "0                              0                    0               0   \n",
       "1                              0                    1               0   \n",
       "2                              0                    0               0   \n",
       "3                              0                    0               0   \n",
       "4                              0                    0               0   \n",
       "\n",
       "   Professional Development  Profit-Sharing  Relocation Assistance  \\\n",
       "0                         0               0                      1   \n",
       "1                         0               0                      0   \n",
       "2                         0               0                      0   \n",
       "3                         1               1                      0   \n",
       "4                         0               0                      1   \n",
       "\n",
       "   Retirement Plans  Social and Recreational Activities  \\\n",
       "0                 0                                   0   \n",
       "1                 1                                   0   \n",
       "2                 1                                   0   \n",
       "3                 0                                   0   \n",
       "4                 0                                   0   \n",
       "\n",
       "   Stock Options or Equity Grants  Transportation Benefits  \\\n",
       "0                               0                        0   \n",
       "1                               0                        0   \n",
       "2                               0                        0   \n",
       "3                               0                        1   \n",
       "4                               0                        0   \n",
       "\n",
       "   Tuition Reimbursement  Wellness Programs  \n",
       "0                      0                  0  \n",
       "1                      0                  0  \n",
       "2                      0                  1  \n",
       "3                      0                  0  \n",
       "4                      0                  0  "
      ]
     },
     "execution_count": 48,
     "metadata": {},
     "output_type": "execute_result"
    }
   ],
   "source": [
    "df.head()"
   ]
  },
  {
   "cell_type": "markdown",
   "id": "8938e733-e3a6-4f99-9992-6d0b33e8846e",
   "metadata": {},
   "source": [
    "## Standardize experience data\n",
    "The `Experience` column contains values in a text format such as `'5 to 15 Years'`, which are not directly usable in numerical models.\n",
    "\n",
    "We extract the compute the average, and store it in a new numeric column `Average_experience` using a custom function:"
   ]
  },
  {
   "cell_type": "code",
   "execution_count": 50,
   "id": "1b57cd2c-ff0a-451d-92c8-108058dd8aa6",
   "metadata": {},
   "outputs": [
    {
     "name": "stdout",
     "output_type": "stream",
     "text": [
      "def parse_experience(exp):\n",
      "    years = exp.replace(\"Years\", \"\").strip().split(\"to\")\n",
      "    return int((int(years[0]) + int(years[1])) / 2)\n",
      "\n"
     ]
    }
   ],
   "source": [
    "print(inspect.getsource(parse_experience))"
   ]
  },
  {
   "cell_type": "code",
   "execution_count": 51,
   "id": "1a7c20b3-405c-47ef-9514-671af34da3a6",
   "metadata": {},
   "outputs": [
    {
     "data": {
      "text/plain": [
       "array(['5 to 15 Years', '2 to 12 Years', '0 to 12 Years', '4 to 11 Years',\n",
       "       '1 to 12 Years', '4 to 12 Years', '3 to 15 Years', '2 to 8 Years',\n",
       "       '2 to 9 Years', '1 to 10 Years', '3 to 10 Years', '1 to 8 Years',\n",
       "       '1 to 9 Years', '5 to 14 Years', '0 to 11 Years', '3 to 12 Years',\n",
       "       '5 to 9 Years', '0 to 15 Years', '0 to 10 Years', '2 to 14 Years',\n",
       "       '3 to 9 Years', '4 to 15 Years', '2 to 10 Years', '4 to 8 Years',\n",
       "       '3 to 8 Years', '1 to 14 Years', '1 to 13 Years', '0 to 8 Years',\n",
       "       '5 to 10 Years', '2 to 13 Years', '4 to 9 Years', '1 to 15 Years',\n",
       "       '4 to 10 Years', '5 to 12 Years', '0 to 13 Years', '4 to 14 Years',\n",
       "       '1 to 11 Years', '4 to 13 Years', '0 to 9 Years', '5 to 8 Years',\n",
       "       '2 to 15 Years', '5 to 13 Years', '5 to 11 Years', '0 to 14 Years',\n",
       "       '3 to 13 Years', '2 to 11 Years', '3 to 11 Years', '3 to 14 Years'],\n",
       "      dtype=object)"
      ]
     },
     "execution_count": 51,
     "metadata": {},
     "output_type": "execute_result"
    }
   ],
   "source": [
    "df[\"Experience\"].unique()"
   ]
  },
  {
   "cell_type": "code",
   "execution_count": 52,
   "id": "36a7ea06-714c-40b5-b397-5dd220c49b48",
   "metadata": {},
   "outputs": [],
   "source": [
    "df[\"Average_experience\"] = df[\"Experience\"].apply(parse_experience)"
   ]
  },
  {
   "cell_type": "code",
   "execution_count": 53,
   "id": "b715a815-6d80-473d-ad09-90d00722abb1",
   "metadata": {},
   "outputs": [
    {
     "data": {
      "text/plain": [
       "0    10\n",
       "1     7\n",
       "2     6\n",
       "3     7\n",
       "4     6\n",
       "Name: Average_experience, dtype: int64"
      ]
     },
     "execution_count": 53,
     "metadata": {},
     "output_type": "execute_result"
    }
   ],
   "source": [
    "df[\"Average_experience\"].head()"
   ]
  },
  {
   "cell_type": "code",
   "execution_count": 54,
   "id": "7990c449-3ec2-4368-bddd-cf0be33f9f04",
   "metadata": {},
   "outputs": [
    {
     "data": {
      "text/plain": [
       "array([10,  7,  6,  8,  9,  5,  4], dtype=int64)"
      ]
     },
     "execution_count": 54,
     "metadata": {},
     "output_type": "execute_result"
    }
   ],
   "source": [
    "df[\"Average_experience\"].unique()"
   ]
  },
  {
   "cell_type": "markdown",
   "id": "43165d54-4962-485f-80a6-45315626b64a",
   "metadata": {},
   "source": [
    "### Deleted Experience column because it's not useful anymore"
   ]
  },
  {
   "cell_type": "code",
   "execution_count": 56,
   "id": "8fef091f-e77f-47af-8c0c-86429a51f02b",
   "metadata": {},
   "outputs": [],
   "source": [
    "df = df.drop(\"Experience\",axis=1)"
   ]
  },
  {
   "cell_type": "markdown",
   "id": "a74f4966-f827-4476-8ad7-0645f4c6646c",
   "metadata": {},
   "source": [
    "### Save changes"
   ]
  },
  {
   "cell_type": "code",
   "execution_count": 58,
   "id": "4159790a-625d-425a-b678-f7f76e010b91",
   "metadata": {},
   "outputs": [],
   "source": [
    "df = save_changes(df)"
   ]
  },
  {
   "cell_type": "code",
   "execution_count": 59,
   "id": "afeef015-181e-4dc4-9ee2-0edb4db00221",
   "metadata": {},
   "outputs": [
    {
     "data": {
      "text/html": [
       "<div>\n",
       "<style scoped>\n",
       "    .dataframe tbody tr th:only-of-type {\n",
       "        vertical-align: middle;\n",
       "    }\n",
       "\n",
       "    .dataframe tbody tr th {\n",
       "        vertical-align: top;\n",
       "    }\n",
       "\n",
       "    .dataframe thead th {\n",
       "        text-align: right;\n",
       "    }\n",
       "</style>\n",
       "<table border=\"1\" class=\"dataframe\">\n",
       "  <thead>\n",
       "    <tr style=\"text-align: right;\">\n",
       "      <th></th>\n",
       "      <th>Qualifications</th>\n",
       "      <th>location</th>\n",
       "      <th>Country</th>\n",
       "      <th>Work Type</th>\n",
       "      <th>Company Size</th>\n",
       "      <th>Job Posting Date</th>\n",
       "      <th>Job Title</th>\n",
       "      <th>Role</th>\n",
       "      <th>Job Portal</th>\n",
       "      <th>Job Description</th>\n",
       "      <th>skills</th>\n",
       "      <th>Responsibilities</th>\n",
       "      <th>Company</th>\n",
       "      <th>Min_Salary</th>\n",
       "      <th>Max_Salary</th>\n",
       "      <th>Average_Salary</th>\n",
       "      <th>Salary</th>\n",
       "      <th>Bonuses and Incentive Programs</th>\n",
       "      <th>Casual Dress Code</th>\n",
       "      <th>Childcare Assistance</th>\n",
       "      <th>Employee Assistance Programs (EAP)</th>\n",
       "      <th>Employee Discounts</th>\n",
       "      <th>Employee Recognition Programs</th>\n",
       "      <th>Employee Referral Programs</th>\n",
       "      <th>Financial Counseling</th>\n",
       "      <th>Flexible Spending Accounts (FSAs)</th>\n",
       "      <th>Flexible Work Arrangements</th>\n",
       "      <th>Health Insurance</th>\n",
       "      <th>Health and Wellness Facilities</th>\n",
       "      <th>Legal Assistance</th>\n",
       "      <th>Life and Disability Insurance</th>\n",
       "      <th>Paid Time Off (PTO)</th>\n",
       "      <th>Parental Leave</th>\n",
       "      <th>Professional Development</th>\n",
       "      <th>Profit-Sharing</th>\n",
       "      <th>Relocation Assistance</th>\n",
       "      <th>Retirement Plans</th>\n",
       "      <th>Social and Recreational Activities</th>\n",
       "      <th>Stock Options or Equity Grants</th>\n",
       "      <th>Transportation Benefits</th>\n",
       "      <th>Tuition Reimbursement</th>\n",
       "      <th>Wellness Programs</th>\n",
       "      <th>Average_experience</th>\n",
       "    </tr>\n",
       "  </thead>\n",
       "  <tbody>\n",
       "    <tr>\n",
       "      <th>0</th>\n",
       "      <td>M.Tech</td>\n",
       "      <td>Douglas</td>\n",
       "      <td>Isle of Man</td>\n",
       "      <td>Intern</td>\n",
       "      <td>26801</td>\n",
       "      <td>2022-04-24</td>\n",
       "      <td>Digital Marketing Specialist</td>\n",
       "      <td>Social Media Manager</td>\n",
       "      <td>Snagajob</td>\n",
       "      <td>Social Media Managers oversee an organizations social media presence. They create and schedule content, engage with followers, and analyze social media metrics to drive brand awareness and engagement.</td>\n",
       "      <td>Social media platforms (e.g., Facebook, Twitter, Instagram) Content creation and scheduling Social media analytics and insights Community engagement Paid social advertising</td>\n",
       "      <td>Manage and grow social media accounts, create engaging content, and interact with the online community. Develop social media content calendars and strategies. Monitor social media trends and engagement metrics.</td>\n",
       "      <td>Icahn Enterprises</td>\n",
       "      <td>253700.0</td>\n",
       "      <td>425700.0</td>\n",
       "      <td>339700.0</td>\n",
       "      <td>1</td>\n",
       "      <td>0</td>\n",
       "      <td>0</td>\n",
       "      <td>0</td>\n",
       "      <td>0</td>\n",
       "      <td>0</td>\n",
       "      <td>1</td>\n",
       "      <td>0</td>\n",
       "      <td>1</td>\n",
       "      <td>1</td>\n",
       "      <td>0</td>\n",
       "      <td>0</td>\n",
       "      <td>0</td>\n",
       "      <td>1</td>\n",
       "      <td>0</td>\n",
       "      <td>0</td>\n",
       "      <td>0</td>\n",
       "      <td>0</td>\n",
       "      <td>0</td>\n",
       "      <td>1</td>\n",
       "      <td>0</td>\n",
       "      <td>0</td>\n",
       "      <td>0</td>\n",
       "      <td>0</td>\n",
       "      <td>0</td>\n",
       "      <td>0</td>\n",
       "      <td>10</td>\n",
       "    </tr>\n",
       "    <tr>\n",
       "      <th>1</th>\n",
       "      <td>BCA</td>\n",
       "      <td>Ashgabat</td>\n",
       "      <td>Turkmenistan</td>\n",
       "      <td>Intern</td>\n",
       "      <td>100340</td>\n",
       "      <td>2022-12-19</td>\n",
       "      <td>Web Developer</td>\n",
       "      <td>Frontend Web Developer</td>\n",
       "      <td>Idealist</td>\n",
       "      <td>Frontend Web Developers design and implement user interfaces for websites, ensuring they are visually appealing and user-friendly. They collaborate with designers and backend developers to create seamless web experiences for users.</td>\n",
       "      <td>HTML, CSS, JavaScript Frontend frameworks (e.g., React, Angular) User experience (UX)</td>\n",
       "      <td>Design and code user interfaces for websites, ensuring a seamless and visually appealing user experience. Collaborate with UX designers to optimize user journeys. Ensure cross-browser compatibility and responsive design.</td>\n",
       "      <td>PNC Financial Services Group</td>\n",
       "      <td>240800.0</td>\n",
       "      <td>498800.0</td>\n",
       "      <td>369800.0</td>\n",
       "      <td>1</td>\n",
       "      <td>0</td>\n",
       "      <td>0</td>\n",
       "      <td>0</td>\n",
       "      <td>1</td>\n",
       "      <td>0</td>\n",
       "      <td>0</td>\n",
       "      <td>0</td>\n",
       "      <td>0</td>\n",
       "      <td>0</td>\n",
       "      <td>1</td>\n",
       "      <td>1</td>\n",
       "      <td>0</td>\n",
       "      <td>0</td>\n",
       "      <td>0</td>\n",
       "      <td>1</td>\n",
       "      <td>0</td>\n",
       "      <td>0</td>\n",
       "      <td>0</td>\n",
       "      <td>0</td>\n",
       "      <td>1</td>\n",
       "      <td>0</td>\n",
       "      <td>0</td>\n",
       "      <td>0</td>\n",
       "      <td>0</td>\n",
       "      <td>0</td>\n",
       "      <td>7</td>\n",
       "    </tr>\n",
       "    <tr>\n",
       "      <th>2</th>\n",
       "      <td>PhD</td>\n",
       "      <td>Macao</td>\n",
       "      <td>Macao SAR, China</td>\n",
       "      <td>Temporary</td>\n",
       "      <td>84525</td>\n",
       "      <td>2022-09-14</td>\n",
       "      <td>Operations Manager</td>\n",
       "      <td>Quality Control Manager</td>\n",
       "      <td>Jobs2Careers</td>\n",
       "      <td>Quality Control Managers establish and enforce quality standards within an organization. They develop quality control processes, perform inspections, and implement corrective actions to maintain product or service quality.</td>\n",
       "      <td>Quality control processes and methodologies Statistical process control (SPC) Root cause analysis and corrective action Quality management systems (e.g., ISO 9001) Compliance and regulatory knowledge</td>\n",
       "      <td>Establish and enforce quality control standards and procedures. Conduct quality audits and inspections. Collaborate with production teams to address quality issues and implement improvements.</td>\n",
       "      <td>United Services Automobile Assn.</td>\n",
       "      <td>262300.0</td>\n",
       "      <td>447200.0</td>\n",
       "      <td>354750.0</td>\n",
       "      <td>1</td>\n",
       "      <td>1</td>\n",
       "      <td>0</td>\n",
       "      <td>0</td>\n",
       "      <td>0</td>\n",
       "      <td>1</td>\n",
       "      <td>0</td>\n",
       "      <td>0</td>\n",
       "      <td>0</td>\n",
       "      <td>0</td>\n",
       "      <td>0</td>\n",
       "      <td>0</td>\n",
       "      <td>0</td>\n",
       "      <td>1</td>\n",
       "      <td>0</td>\n",
       "      <td>0</td>\n",
       "      <td>0</td>\n",
       "      <td>0</td>\n",
       "      <td>0</td>\n",
       "      <td>0</td>\n",
       "      <td>1</td>\n",
       "      <td>0</td>\n",
       "      <td>0</td>\n",
       "      <td>0</td>\n",
       "      <td>0</td>\n",
       "      <td>1</td>\n",
       "      <td>6</td>\n",
       "    </tr>\n",
       "    <tr>\n",
       "      <th>3</th>\n",
       "      <td>PhD</td>\n",
       "      <td>Porto-Novo</td>\n",
       "      <td>Benin</td>\n",
       "      <td>Full-Time</td>\n",
       "      <td>129896</td>\n",
       "      <td>2023-02-25</td>\n",
       "      <td>Network Engineer</td>\n",
       "      <td>Wireless Network Engineer</td>\n",
       "      <td>FlexJobs</td>\n",
       "      <td>Wireless Network Engineers design, implement, and maintain wireless network solutions. They optimize wireless connectivity, troubleshoot issues, and ensure reliable and secure wireless communications.</td>\n",
       "      <td>Wireless network design and architecture Wi-Fi standards and protocols RF (Radio Frequency) planning and optimization Wireless security protocols Troubleshooting wireless network issues</td>\n",
       "      <td>Design, configure, and optimize wireless networks, ensuring reliable and secure wireless connectivity. Troubleshoot wireless network issues. Plan and implement wireless network upgrades.</td>\n",
       "      <td>Hess</td>\n",
       "      <td>279500.0</td>\n",
       "      <td>391300.0</td>\n",
       "      <td>335400.0</td>\n",
       "      <td>0</td>\n",
       "      <td>1</td>\n",
       "      <td>0</td>\n",
       "      <td>0</td>\n",
       "      <td>0</td>\n",
       "      <td>1</td>\n",
       "      <td>0</td>\n",
       "      <td>0</td>\n",
       "      <td>0</td>\n",
       "      <td>0</td>\n",
       "      <td>0</td>\n",
       "      <td>0</td>\n",
       "      <td>0</td>\n",
       "      <td>0</td>\n",
       "      <td>0</td>\n",
       "      <td>0</td>\n",
       "      <td>0</td>\n",
       "      <td>1</td>\n",
       "      <td>1</td>\n",
       "      <td>0</td>\n",
       "      <td>0</td>\n",
       "      <td>0</td>\n",
       "      <td>0</td>\n",
       "      <td>1</td>\n",
       "      <td>0</td>\n",
       "      <td>0</td>\n",
       "      <td>7</td>\n",
       "    </tr>\n",
       "    <tr>\n",
       "      <th>4</th>\n",
       "      <td>MBA</td>\n",
       "      <td>Santiago</td>\n",
       "      <td>Chile</td>\n",
       "      <td>Intern</td>\n",
       "      <td>53944</td>\n",
       "      <td>2022-10-11</td>\n",
       "      <td>Event Manager</td>\n",
       "      <td>Conference Manager</td>\n",
       "      <td>Jobs2Careers</td>\n",
       "      <td>A Conference Manager coordinates and manages conferences, meetings, and events. They plan logistics, handle budgeting, liaise with vendors, and ensure the smooth execution of events, catering to the needs and expectations of attendees.</td>\n",
       "      <td>Event planning Conference logistics Budget management Vendor coordination Marketing and promotion Client relations</td>\n",
       "      <td>Specialize in conference and convention planning. Coordinate speaker sessions, exhibitors, and attendee experiences. Oversee event registration and marketing.</td>\n",
       "      <td>Cairn Energy</td>\n",
       "      <td>275200.0</td>\n",
       "      <td>374100.0</td>\n",
       "      <td>324650.0</td>\n",
       "      <td>0</td>\n",
       "      <td>0</td>\n",
       "      <td>0</td>\n",
       "      <td>0</td>\n",
       "      <td>0</td>\n",
       "      <td>0</td>\n",
       "      <td>1</td>\n",
       "      <td>0</td>\n",
       "      <td>1</td>\n",
       "      <td>1</td>\n",
       "      <td>0</td>\n",
       "      <td>0</td>\n",
       "      <td>0</td>\n",
       "      <td>1</td>\n",
       "      <td>0</td>\n",
       "      <td>0</td>\n",
       "      <td>0</td>\n",
       "      <td>0</td>\n",
       "      <td>0</td>\n",
       "      <td>1</td>\n",
       "      <td>0</td>\n",
       "      <td>0</td>\n",
       "      <td>0</td>\n",
       "      <td>0</td>\n",
       "      <td>0</td>\n",
       "      <td>0</td>\n",
       "      <td>6</td>\n",
       "    </tr>\n",
       "  </tbody>\n",
       "</table>\n",
       "</div>"
      ],
      "text/plain": [
       "  Qualifications    location           Country  Work Type  Company Size  \\\n",
       "0         M.Tech     Douglas       Isle of Man     Intern         26801   \n",
       "1            BCA    Ashgabat      Turkmenistan     Intern        100340   \n",
       "2            PhD       Macao  Macao SAR, China  Temporary         84525   \n",
       "3            PhD  Porto-Novo             Benin  Full-Time        129896   \n",
       "4            MBA    Santiago             Chile     Intern         53944   \n",
       "\n",
       "  Job Posting Date                     Job Title                       Role  \\\n",
       "0       2022-04-24  Digital Marketing Specialist       Social Media Manager   \n",
       "1       2022-12-19                 Web Developer     Frontend Web Developer   \n",
       "2       2022-09-14            Operations Manager    Quality Control Manager   \n",
       "3       2023-02-25              Network Engineer  Wireless Network Engineer   \n",
       "4       2022-10-11                 Event Manager         Conference Manager   \n",
       "\n",
       "     Job Portal  \\\n",
       "0      Snagajob   \n",
       "1      Idealist   \n",
       "2  Jobs2Careers   \n",
       "3      FlexJobs   \n",
       "4  Jobs2Careers   \n",
       "\n",
       "                                                                                                                                                                                                                               Job Description  \\\n",
       "0                                     Social Media Managers oversee an organizations social media presence. They create and schedule content, engage with followers, and analyze social media metrics to drive brand awareness and engagement.   \n",
       "1      Frontend Web Developers design and implement user interfaces for websites, ensuring they are visually appealing and user-friendly. They collaborate with designers and backend developers to create seamless web experiences for users.   \n",
       "2               Quality Control Managers establish and enforce quality standards within an organization. They develop quality control processes, perform inspections, and implement corrective actions to maintain product or service quality.   \n",
       "3                                     Wireless Network Engineers design, implement, and maintain wireless network solutions. They optimize wireless connectivity, troubleshoot issues, and ensure reliable and secure wireless communications.   \n",
       "4  A Conference Manager coordinates and manages conferences, meetings, and events. They plan logistics, handle budgeting, liaise with vendors, and ensure the smooth execution of events, catering to the needs and expectations of attendees.   \n",
       "\n",
       "                                                                                                                                                                                                    skills  \\\n",
       "0                             Social media platforms (e.g., Facebook, Twitter, Instagram) Content creation and scheduling Social media analytics and insights Community engagement Paid social advertising   \n",
       "1                                                                                                                    HTML, CSS, JavaScript Frontend frameworks (e.g., React, Angular) User experience (UX)   \n",
       "2  Quality control processes and methodologies Statistical process control (SPC) Root cause analysis and corrective action Quality management systems (e.g., ISO 9001) Compliance and regulatory knowledge   \n",
       "3                Wireless network design and architecture Wi-Fi standards and protocols RF (Radio Frequency) planning and optimization Wireless security protocols Troubleshooting wireless network issues   \n",
       "4                                                                                       Event planning Conference logistics Budget management Vendor coordination Marketing and promotion Client relations   \n",
       "\n",
       "                                                                                                                                                                                                               Responsibilities  \\\n",
       "0            Manage and grow social media accounts, create engaging content, and interact with the online community. Develop social media content calendars and strategies. Monitor social media trends and engagement metrics.   \n",
       "1  Design and code user interfaces for websites, ensuring a seamless and visually appealing user experience. Collaborate with UX designers to optimize user journeys. Ensure cross-browser compatibility and responsive design.   \n",
       "2                               Establish and enforce quality control standards and procedures. Conduct quality audits and inspections. Collaborate with production teams to address quality issues and implement improvements.   \n",
       "3                                    Design, configure, and optimize wireless networks, ensuring reliable and secure wireless connectivity. Troubleshoot wireless network issues. Plan and implement wireless network upgrades.   \n",
       "4                                                                Specialize in conference and convention planning. Coordinate speaker sessions, exhibitors, and attendee experiences. Oversee event registration and marketing.   \n",
       "\n",
       "                            Company  Min_Salary  Max_Salary  Average_Salary  \\\n",
       "0                 Icahn Enterprises    253700.0    425700.0        339700.0   \n",
       "1      PNC Financial Services Group    240800.0    498800.0        369800.0   \n",
       "2  United Services Automobile Assn.    262300.0    447200.0        354750.0   \n",
       "3                              Hess    279500.0    391300.0        335400.0   \n",
       "4                      Cairn Energy    275200.0    374100.0        324650.0   \n",
       "\n",
       "   Salary  Bonuses and Incentive Programs  Casual Dress Code  \\\n",
       "0       1                               0                  0   \n",
       "1       1                               0                  0   \n",
       "2       1                               1                  0   \n",
       "3       0                               1                  0   \n",
       "4       0                               0                  0   \n",
       "\n",
       "   Childcare Assistance  Employee Assistance Programs (EAP)  \\\n",
       "0                     0                                   0   \n",
       "1                     0                                   1   \n",
       "2                     0                                   0   \n",
       "3                     0                                   0   \n",
       "4                     0                                   0   \n",
       "\n",
       "   Employee Discounts  Employee Recognition Programs  \\\n",
       "0                   0                              1   \n",
       "1                   0                              0   \n",
       "2                   1                              0   \n",
       "3                   1                              0   \n",
       "4                   0                              1   \n",
       "\n",
       "   Employee Referral Programs  Financial Counseling  \\\n",
       "0                           0                     1   \n",
       "1                           0                     0   \n",
       "2                           0                     0   \n",
       "3                           0                     0   \n",
       "4                           0                     1   \n",
       "\n",
       "   Flexible Spending Accounts (FSAs)  Flexible Work Arrangements  \\\n",
       "0                                  1                           0   \n",
       "1                                  0                           1   \n",
       "2                                  0                           0   \n",
       "3                                  0                           0   \n",
       "4                                  1                           0   \n",
       "\n",
       "   Health Insurance  Health and Wellness Facilities  Legal Assistance  \\\n",
       "0                 0                               0                 1   \n",
       "1                 1                               0                 0   \n",
       "2                 0                               0                 1   \n",
       "3                 0                               0                 0   \n",
       "4                 0                               0                 1   \n",
       "\n",
       "   Life and Disability Insurance  Paid Time Off (PTO)  Parental Leave  \\\n",
       "0                              0                    0               0   \n",
       "1                              0                    1               0   \n",
       "2                              0                    0               0   \n",
       "3                              0                    0               0   \n",
       "4                              0                    0               0   \n",
       "\n",
       "   Professional Development  Profit-Sharing  Relocation Assistance  \\\n",
       "0                         0               0                      1   \n",
       "1                         0               0                      0   \n",
       "2                         0               0                      0   \n",
       "3                         1               1                      0   \n",
       "4                         0               0                      1   \n",
       "\n",
       "   Retirement Plans  Social and Recreational Activities  \\\n",
       "0                 0                                   0   \n",
       "1                 1                                   0   \n",
       "2                 1                                   0   \n",
       "3                 0                                   0   \n",
       "4                 0                                   0   \n",
       "\n",
       "   Stock Options or Equity Grants  Transportation Benefits  \\\n",
       "0                               0                        0   \n",
       "1                               0                        0   \n",
       "2                               0                        0   \n",
       "3                               0                        1   \n",
       "4                               0                        0   \n",
       "\n",
       "   Tuition Reimbursement  Wellness Programs  Average_experience  \n",
       "0                      0                  0                  10  \n",
       "1                      0                  0                   7  \n",
       "2                      0                  1                   6  \n",
       "3                      0                  0                   7  \n",
       "4                      0                  0                   6  "
      ]
     },
     "execution_count": 59,
     "metadata": {},
     "output_type": "execute_result"
    }
   ],
   "source": [
    "df.head()"
   ]
  },
  {
   "cell_type": "markdown",
   "id": "7d030c2c-a6dc-454f-93e8-bd4ae5209a97",
   "metadata": {},
   "source": [
    "## Analyzing Job Title column"
   ]
  },
  {
   "cell_type": "markdown",
   "id": "a05a056d-8cde-4a78-ac87-e3f5ed25ce75",
   "metadata": {},
   "source": [
    "### Number of unique values of job titles:"
   ]
  },
  {
   "cell_type": "code",
   "execution_count": 62,
   "id": "820c25b4-2cfb-4c3a-a703-29b257a87f0d",
   "metadata": {},
   "outputs": [
    {
     "data": {
      "text/plain": [
       "147"
      ]
     },
     "execution_count": 62,
     "metadata": {},
     "output_type": "execute_result"
    }
   ],
   "source": [
    "df['Job Title'].nunique()"
   ]
  },
  {
   "cell_type": "markdown",
   "id": "9e5a34d8-1ad9-423b-b49f-4c8063c5cf77",
   "metadata": {
    "jp-MarkdownHeadingCollapsed": true
   },
   "source": [
    "### Unique values for job titles:"
   ]
  },
  {
   "cell_type": "code",
   "execution_count": 64,
   "id": "4458672e-402a-4327-bdba-6e359eff7097",
   "metadata": {},
   "outputs": [
    {
     "data": {
      "text/plain": [
       "array(['Digital Marketing Specialist', 'Web Developer',\n",
       "       'Operations Manager', 'Network Engineer', 'Event Manager',\n",
       "       'Software Tester', 'Teacher', 'UX/UI Designer', 'Wedding Planner',\n",
       "       'QA Analyst', 'Litigation Attorney', 'Mechanical Engineer',\n",
       "       'Network Administrator', 'Account Manager', 'Brand Manager',\n",
       "       'Social Worker', 'Social Media Coordinator',\n",
       "       'Email Marketing Specialist', 'HR Generalist', 'Legal Assistant',\n",
       "       'Nurse Practitioner', 'Account Director', 'Software Engineer',\n",
       "       'Purchasing Agent', 'Sales Consultant', 'Civil Engineer',\n",
       "       'Network Security Specialist', 'UI Developer', 'Financial Planner',\n",
       "       'Event Planner', 'Psychologist', 'Electrical Designer',\n",
       "       'Data Analyst', 'Technical Writer', 'Tax Consultant',\n",
       "       'Account Executive', 'Systems Administrator',\n",
       "       'Database Administrator', 'Research Analyst', 'Data Entry Clerk',\n",
       "       'Registered Nurse', 'Investment Analyst', 'Speech Therapist',\n",
       "       'Sales Manager', 'Landscape Architect', 'Key Account Manager',\n",
       "       'UX Researcher', 'Investment Banker', 'IT Support Specialist',\n",
       "       'Art Director', 'Software Developer', 'Project Manager',\n",
       "       'Customer Service Manager', 'Procurement Manager',\n",
       "       'Substance Abuse Counselor', 'Supply Chain Analyst',\n",
       "       'Data Engineer', 'Accountant', 'Sales Representative',\n",
       "       'Environmental Consultant', 'Electrical Engineer',\n",
       "       'Systems Engineer', 'Art Teacher', 'Human Resources Manager',\n",
       "       'Inventory Analyst', 'Legal Counsel', 'Database Developer',\n",
       "       'Procurement Specialist', 'Systems Analyst', 'Copywriter',\n",
       "       'Content Writer', 'HR Coordinator', 'Business Development Manager',\n",
       "       'Java Developer', 'Supply Chain Manager', 'Event Coordinator',\n",
       "       'Family Nurse Practitioner', 'Front-End Engineer',\n",
       "       'Customer Success Manager', 'Procurement Coordinator',\n",
       "       'Urban Planner', 'Architectural Designer', 'Financial Analyst',\n",
       "       'Environmental Engineer', 'Back-End Developer',\n",
       "       'Structural Engineer', 'Market Research Analyst',\n",
       "       'Customer Service Representative', 'Customer Support Specialist',\n",
       "       'Business Analyst', 'Social Media Manager', 'Family Lawyer',\n",
       "       'Chemical Analyst', 'Network Technician', 'Interior Designer',\n",
       "       'Software Architect', 'Nurse Manager', 'Veterinarian',\n",
       "       'Process Engineer', 'IT Manager', 'Quality Assurance Analyst',\n",
       "       'Pharmaceutical Sales Representative', 'Office Manager',\n",
       "       'Architect', 'Physician Assistant', 'Marketing Director',\n",
       "       'Front-End Developer', 'Research Scientist', 'Executive Assistant',\n",
       "       'HR Manager', 'Marketing Manager', 'Public Relations Specialist',\n",
       "       'Financial Controller', 'Investment Advisor', 'Aerospace Engineer',\n",
       "       'Marketing Analyst', 'Paralegal', 'Landscape Designer',\n",
       "       'Web Designer', 'Occupational Therapist', 'Legal Advisor',\n",
       "       'Marketing Coordinator', 'Dental Hygienist', 'SEM Specialist',\n",
       "       'SEO Specialist', 'Pediatrician', 'QA Engineer', 'Data Scientist',\n",
       "       'Financial Advisor', 'Personal Assistant', 'SEO Analyst',\n",
       "       'Network Analyst', 'Mechanical Designer', 'Marketing Specialist',\n",
       "       'Graphic Designer', 'Finance Manager', 'Physical Therapist',\n",
       "       'Product Designer', 'Administrative Assistant', 'Brand Ambassador',\n",
       "       'Project Coordinator', 'Product Manager', 'IT Administrator',\n",
       "       'Sales Associate', 'Chemical Engineer', 'Legal Secretary',\n",
       "       'Market Analyst'], dtype=object)"
      ]
     },
     "execution_count": 64,
     "metadata": {},
     "output_type": "execute_result"
    }
   ],
   "source": [
    "df['Job Title'].unique()"
   ]
  },
  {
   "cell_type": "markdown",
   "id": "ab524b6f-41e7-4e6d-9360-8c1f1df2d995",
   "metadata": {},
   "source": [
    "### The `Job Title` column contains 147 unique values. To simplify model inference and reduce dimensionality, I grouped them in broader categories using sentence transformers and KMeans"
   ]
  },
  {
   "cell_type": "code",
   "execution_count": 66,
   "id": "a547b993-0289-4093-8e6c-6cbcbd355e96",
   "metadata": {},
   "outputs": [],
   "source": [
    "job_titles = df['Job Title'].unique().tolist()"
   ]
  },
  {
   "cell_type": "code",
   "execution_count": 67,
   "id": "6ca667da-4940-4d1d-bceb-82f9aa2d4b3e",
   "metadata": {},
   "outputs": [],
   "source": [
    "# Initialize the Sentence Transformer model with a pre-trained model\n",
    "model = SentenceTransformer('all-MiniLM-L6-v2')\n",
    "# Convert job titles into numerical vector representations (embeddings)\n",
    "embeddings = model.encode(job_titles)\n",
    "\n",
    "# Create a K-means clustering model with 12 clusters and a fixed random seed for reproducibility\n",
    "kmeans = KMeans(n_clusters=12, random_state=42)\n",
    "# Fit the model to the embeddings and get cluster assignments for each job title\n",
    "labels = kmeans.fit_predict(embeddings)"
   ]
  },
  {
   "cell_type": "markdown",
   "id": "1a59236a-cc02-4a1b-b91a-cac436261b24",
   "metadata": {},
   "source": [
    "### Associate labels created with job_titles"
   ]
  },
  {
   "cell_type": "code",
   "execution_count": 69,
   "id": "8375af31-1963-409e-85c3-b6b6dd878cce",
   "metadata": {},
   "outputs": [],
   "source": [
    "title_to_cluster = dict(zip(job_titles, labels))"
   ]
  },
  {
   "cell_type": "markdown",
   "id": "94ebf4b5-83ec-4693-869e-73e6efacf0c3",
   "metadata": {},
   "source": [
    "### Add a new column representing the broad categories"
   ]
  },
  {
   "cell_type": "code",
   "execution_count": 71,
   "id": "77d201ef-5cc8-4ca4-8269-c696da1ba72b",
   "metadata": {},
   "outputs": [],
   "source": [
    "df['Job Area'] = df['Job Title'].map(title_to_cluster)"
   ]
  },
  {
   "cell_type": "code",
   "execution_count": 72,
   "id": "544cc1e5-7d10-403a-9b1c-fc27ff87b31e",
   "metadata": {},
   "outputs": [
    {
     "data": {
      "text/html": [
       "<div>\n",
       "<style scoped>\n",
       "    .dataframe tbody tr th:only-of-type {\n",
       "        vertical-align: middle;\n",
       "    }\n",
       "\n",
       "    .dataframe tbody tr th {\n",
       "        vertical-align: top;\n",
       "    }\n",
       "\n",
       "    .dataframe thead th {\n",
       "        text-align: right;\n",
       "    }\n",
       "</style>\n",
       "<table border=\"1\" class=\"dataframe\">\n",
       "  <thead>\n",
       "    <tr style=\"text-align: right;\">\n",
       "      <th></th>\n",
       "      <th>Qualifications</th>\n",
       "      <th>location</th>\n",
       "      <th>Country</th>\n",
       "      <th>Work Type</th>\n",
       "      <th>Company Size</th>\n",
       "      <th>Job Posting Date</th>\n",
       "      <th>Job Title</th>\n",
       "      <th>Role</th>\n",
       "      <th>Job Portal</th>\n",
       "      <th>Job Description</th>\n",
       "      <th>skills</th>\n",
       "      <th>Responsibilities</th>\n",
       "      <th>Company</th>\n",
       "      <th>Min_Salary</th>\n",
       "      <th>Max_Salary</th>\n",
       "      <th>Average_Salary</th>\n",
       "      <th>Salary</th>\n",
       "      <th>Bonuses and Incentive Programs</th>\n",
       "      <th>Casual Dress Code</th>\n",
       "      <th>Childcare Assistance</th>\n",
       "      <th>Employee Assistance Programs (EAP)</th>\n",
       "      <th>Employee Discounts</th>\n",
       "      <th>Employee Recognition Programs</th>\n",
       "      <th>Employee Referral Programs</th>\n",
       "      <th>Financial Counseling</th>\n",
       "      <th>Flexible Spending Accounts (FSAs)</th>\n",
       "      <th>Flexible Work Arrangements</th>\n",
       "      <th>Health Insurance</th>\n",
       "      <th>Health and Wellness Facilities</th>\n",
       "      <th>Legal Assistance</th>\n",
       "      <th>Life and Disability Insurance</th>\n",
       "      <th>Paid Time Off (PTO)</th>\n",
       "      <th>Parental Leave</th>\n",
       "      <th>Professional Development</th>\n",
       "      <th>Profit-Sharing</th>\n",
       "      <th>Relocation Assistance</th>\n",
       "      <th>Retirement Plans</th>\n",
       "      <th>Social and Recreational Activities</th>\n",
       "      <th>Stock Options or Equity Grants</th>\n",
       "      <th>Transportation Benefits</th>\n",
       "      <th>Tuition Reimbursement</th>\n",
       "      <th>Wellness Programs</th>\n",
       "      <th>Average_experience</th>\n",
       "      <th>Job Area</th>\n",
       "    </tr>\n",
       "  </thead>\n",
       "  <tbody>\n",
       "    <tr>\n",
       "      <th>0</th>\n",
       "      <td>M.Tech</td>\n",
       "      <td>Douglas</td>\n",
       "      <td>Isle of Man</td>\n",
       "      <td>Intern</td>\n",
       "      <td>26801</td>\n",
       "      <td>2022-04-24</td>\n",
       "      <td>Digital Marketing Specialist</td>\n",
       "      <td>Social Media Manager</td>\n",
       "      <td>Snagajob</td>\n",
       "      <td>Social Media Managers oversee an organizations social media presence. They create and schedule content, engage with followers, and analyze social media metrics to drive brand awareness and engagement.</td>\n",
       "      <td>Social media platforms (e.g., Facebook, Twitter, Instagram) Content creation and scheduling Social media analytics and insights Community engagement Paid social advertising</td>\n",
       "      <td>Manage and grow social media accounts, create engaging content, and interact with the online community. Develop social media content calendars and strategies. Monitor social media trends and engagement metrics.</td>\n",
       "      <td>Icahn Enterprises</td>\n",
       "      <td>253700.0</td>\n",
       "      <td>425700.0</td>\n",
       "      <td>339700.0</td>\n",
       "      <td>1</td>\n",
       "      <td>0</td>\n",
       "      <td>0</td>\n",
       "      <td>0</td>\n",
       "      <td>0</td>\n",
       "      <td>0</td>\n",
       "      <td>1</td>\n",
       "      <td>0</td>\n",
       "      <td>1</td>\n",
       "      <td>1</td>\n",
       "      <td>0</td>\n",
       "      <td>0</td>\n",
       "      <td>0</td>\n",
       "      <td>1</td>\n",
       "      <td>0</td>\n",
       "      <td>0</td>\n",
       "      <td>0</td>\n",
       "      <td>0</td>\n",
       "      <td>0</td>\n",
       "      <td>1</td>\n",
       "      <td>0</td>\n",
       "      <td>0</td>\n",
       "      <td>0</td>\n",
       "      <td>0</td>\n",
       "      <td>0</td>\n",
       "      <td>0</td>\n",
       "      <td>10</td>\n",
       "      <td>3</td>\n",
       "    </tr>\n",
       "    <tr>\n",
       "      <th>1</th>\n",
       "      <td>BCA</td>\n",
       "      <td>Ashgabat</td>\n",
       "      <td>Turkmenistan</td>\n",
       "      <td>Intern</td>\n",
       "      <td>100340</td>\n",
       "      <td>2022-12-19</td>\n",
       "      <td>Web Developer</td>\n",
       "      <td>Frontend Web Developer</td>\n",
       "      <td>Idealist</td>\n",
       "      <td>Frontend Web Developers design and implement user interfaces for websites, ensuring they are visually appealing and user-friendly. They collaborate with designers and backend developers to create seamless web experiences for users.</td>\n",
       "      <td>HTML, CSS, JavaScript Frontend frameworks (e.g., React, Angular) User experience (UX)</td>\n",
       "      <td>Design and code user interfaces for websites, ensuring a seamless and visually appealing user experience. Collaborate with UX designers to optimize user journeys. Ensure cross-browser compatibility and responsive design.</td>\n",
       "      <td>PNC Financial Services Group</td>\n",
       "      <td>240800.0</td>\n",
       "      <td>498800.0</td>\n",
       "      <td>369800.0</td>\n",
       "      <td>1</td>\n",
       "      <td>0</td>\n",
       "      <td>0</td>\n",
       "      <td>0</td>\n",
       "      <td>1</td>\n",
       "      <td>0</td>\n",
       "      <td>0</td>\n",
       "      <td>0</td>\n",
       "      <td>0</td>\n",
       "      <td>0</td>\n",
       "      <td>1</td>\n",
       "      <td>1</td>\n",
       "      <td>0</td>\n",
       "      <td>0</td>\n",
       "      <td>0</td>\n",
       "      <td>1</td>\n",
       "      <td>0</td>\n",
       "      <td>0</td>\n",
       "      <td>0</td>\n",
       "      <td>0</td>\n",
       "      <td>1</td>\n",
       "      <td>0</td>\n",
       "      <td>0</td>\n",
       "      <td>0</td>\n",
       "      <td>0</td>\n",
       "      <td>0</td>\n",
       "      <td>7</td>\n",
       "      <td>10</td>\n",
       "    </tr>\n",
       "    <tr>\n",
       "      <th>2</th>\n",
       "      <td>PhD</td>\n",
       "      <td>Macao</td>\n",
       "      <td>Macao SAR, China</td>\n",
       "      <td>Temporary</td>\n",
       "      <td>84525</td>\n",
       "      <td>2022-09-14</td>\n",
       "      <td>Operations Manager</td>\n",
       "      <td>Quality Control Manager</td>\n",
       "      <td>Jobs2Careers</td>\n",
       "      <td>Quality Control Managers establish and enforce quality standards within an organization. They develop quality control processes, perform inspections, and implement corrective actions to maintain product or service quality.</td>\n",
       "      <td>Quality control processes and methodologies Statistical process control (SPC) Root cause analysis and corrective action Quality management systems (e.g., ISO 9001) Compliance and regulatory knowledge</td>\n",
       "      <td>Establish and enforce quality control standards and procedures. Conduct quality audits and inspections. Collaborate with production teams to address quality issues and implement improvements.</td>\n",
       "      <td>United Services Automobile Assn.</td>\n",
       "      <td>262300.0</td>\n",
       "      <td>447200.0</td>\n",
       "      <td>354750.0</td>\n",
       "      <td>1</td>\n",
       "      <td>1</td>\n",
       "      <td>0</td>\n",
       "      <td>0</td>\n",
       "      <td>0</td>\n",
       "      <td>1</td>\n",
       "      <td>0</td>\n",
       "      <td>0</td>\n",
       "      <td>0</td>\n",
       "      <td>0</td>\n",
       "      <td>0</td>\n",
       "      <td>0</td>\n",
       "      <td>0</td>\n",
       "      <td>1</td>\n",
       "      <td>0</td>\n",
       "      <td>0</td>\n",
       "      <td>0</td>\n",
       "      <td>0</td>\n",
       "      <td>0</td>\n",
       "      <td>0</td>\n",
       "      <td>1</td>\n",
       "      <td>0</td>\n",
       "      <td>0</td>\n",
       "      <td>0</td>\n",
       "      <td>0</td>\n",
       "      <td>1</td>\n",
       "      <td>6</td>\n",
       "      <td>3</td>\n",
       "    </tr>\n",
       "    <tr>\n",
       "      <th>3</th>\n",
       "      <td>PhD</td>\n",
       "      <td>Porto-Novo</td>\n",
       "      <td>Benin</td>\n",
       "      <td>Full-Time</td>\n",
       "      <td>129896</td>\n",
       "      <td>2023-02-25</td>\n",
       "      <td>Network Engineer</td>\n",
       "      <td>Wireless Network Engineer</td>\n",
       "      <td>FlexJobs</td>\n",
       "      <td>Wireless Network Engineers design, implement, and maintain wireless network solutions. They optimize wireless connectivity, troubleshoot issues, and ensure reliable and secure wireless communications.</td>\n",
       "      <td>Wireless network design and architecture Wi-Fi standards and protocols RF (Radio Frequency) planning and optimization Wireless security protocols Troubleshooting wireless network issues</td>\n",
       "      <td>Design, configure, and optimize wireless networks, ensuring reliable and secure wireless connectivity. Troubleshoot wireless network issues. Plan and implement wireless network upgrades.</td>\n",
       "      <td>Hess</td>\n",
       "      <td>279500.0</td>\n",
       "      <td>391300.0</td>\n",
       "      <td>335400.0</td>\n",
       "      <td>0</td>\n",
       "      <td>1</td>\n",
       "      <td>0</td>\n",
       "      <td>0</td>\n",
       "      <td>0</td>\n",
       "      <td>1</td>\n",
       "      <td>0</td>\n",
       "      <td>0</td>\n",
       "      <td>0</td>\n",
       "      <td>0</td>\n",
       "      <td>0</td>\n",
       "      <td>0</td>\n",
       "      <td>0</td>\n",
       "      <td>0</td>\n",
       "      <td>0</td>\n",
       "      <td>0</td>\n",
       "      <td>0</td>\n",
       "      <td>1</td>\n",
       "      <td>1</td>\n",
       "      <td>0</td>\n",
       "      <td>0</td>\n",
       "      <td>0</td>\n",
       "      <td>0</td>\n",
       "      <td>1</td>\n",
       "      <td>0</td>\n",
       "      <td>0</td>\n",
       "      <td>7</td>\n",
       "      <td>10</td>\n",
       "    </tr>\n",
       "    <tr>\n",
       "      <th>4</th>\n",
       "      <td>MBA</td>\n",
       "      <td>Santiago</td>\n",
       "      <td>Chile</td>\n",
       "      <td>Intern</td>\n",
       "      <td>53944</td>\n",
       "      <td>2022-10-11</td>\n",
       "      <td>Event Manager</td>\n",
       "      <td>Conference Manager</td>\n",
       "      <td>Jobs2Careers</td>\n",
       "      <td>A Conference Manager coordinates and manages conferences, meetings, and events. They plan logistics, handle budgeting, liaise with vendors, and ensure the smooth execution of events, catering to the needs and expectations of attendees.</td>\n",
       "      <td>Event planning Conference logistics Budget management Vendor coordination Marketing and promotion Client relations</td>\n",
       "      <td>Specialize in conference and convention planning. Coordinate speaker sessions, exhibitors, and attendee experiences. Oversee event registration and marketing.</td>\n",
       "      <td>Cairn Energy</td>\n",
       "      <td>275200.0</td>\n",
       "      <td>374100.0</td>\n",
       "      <td>324650.0</td>\n",
       "      <td>0</td>\n",
       "      <td>0</td>\n",
       "      <td>0</td>\n",
       "      <td>0</td>\n",
       "      <td>0</td>\n",
       "      <td>0</td>\n",
       "      <td>1</td>\n",
       "      <td>0</td>\n",
       "      <td>1</td>\n",
       "      <td>1</td>\n",
       "      <td>0</td>\n",
       "      <td>0</td>\n",
       "      <td>0</td>\n",
       "      <td>1</td>\n",
       "      <td>0</td>\n",
       "      <td>0</td>\n",
       "      <td>0</td>\n",
       "      <td>0</td>\n",
       "      <td>0</td>\n",
       "      <td>1</td>\n",
       "      <td>0</td>\n",
       "      <td>0</td>\n",
       "      <td>0</td>\n",
       "      <td>0</td>\n",
       "      <td>0</td>\n",
       "      <td>0</td>\n",
       "      <td>6</td>\n",
       "      <td>3</td>\n",
       "    </tr>\n",
       "  </tbody>\n",
       "</table>\n",
       "</div>"
      ],
      "text/plain": [
       "  Qualifications    location           Country  Work Type  Company Size  \\\n",
       "0         M.Tech     Douglas       Isle of Man     Intern         26801   \n",
       "1            BCA    Ashgabat      Turkmenistan     Intern        100340   \n",
       "2            PhD       Macao  Macao SAR, China  Temporary         84525   \n",
       "3            PhD  Porto-Novo             Benin  Full-Time        129896   \n",
       "4            MBA    Santiago             Chile     Intern         53944   \n",
       "\n",
       "  Job Posting Date                     Job Title                       Role  \\\n",
       "0       2022-04-24  Digital Marketing Specialist       Social Media Manager   \n",
       "1       2022-12-19                 Web Developer     Frontend Web Developer   \n",
       "2       2022-09-14            Operations Manager    Quality Control Manager   \n",
       "3       2023-02-25              Network Engineer  Wireless Network Engineer   \n",
       "4       2022-10-11                 Event Manager         Conference Manager   \n",
       "\n",
       "     Job Portal  \\\n",
       "0      Snagajob   \n",
       "1      Idealist   \n",
       "2  Jobs2Careers   \n",
       "3      FlexJobs   \n",
       "4  Jobs2Careers   \n",
       "\n",
       "                                                                                                                                                                                                                               Job Description  \\\n",
       "0                                     Social Media Managers oversee an organizations social media presence. They create and schedule content, engage with followers, and analyze social media metrics to drive brand awareness and engagement.   \n",
       "1      Frontend Web Developers design and implement user interfaces for websites, ensuring they are visually appealing and user-friendly. They collaborate with designers and backend developers to create seamless web experiences for users.   \n",
       "2               Quality Control Managers establish and enforce quality standards within an organization. They develop quality control processes, perform inspections, and implement corrective actions to maintain product or service quality.   \n",
       "3                                     Wireless Network Engineers design, implement, and maintain wireless network solutions. They optimize wireless connectivity, troubleshoot issues, and ensure reliable and secure wireless communications.   \n",
       "4  A Conference Manager coordinates and manages conferences, meetings, and events. They plan logistics, handle budgeting, liaise with vendors, and ensure the smooth execution of events, catering to the needs and expectations of attendees.   \n",
       "\n",
       "                                                                                                                                                                                                    skills  \\\n",
       "0                             Social media platforms (e.g., Facebook, Twitter, Instagram) Content creation and scheduling Social media analytics and insights Community engagement Paid social advertising   \n",
       "1                                                                                                                    HTML, CSS, JavaScript Frontend frameworks (e.g., React, Angular) User experience (UX)   \n",
       "2  Quality control processes and methodologies Statistical process control (SPC) Root cause analysis and corrective action Quality management systems (e.g., ISO 9001) Compliance and regulatory knowledge   \n",
       "3                Wireless network design and architecture Wi-Fi standards and protocols RF (Radio Frequency) planning and optimization Wireless security protocols Troubleshooting wireless network issues   \n",
       "4                                                                                       Event planning Conference logistics Budget management Vendor coordination Marketing and promotion Client relations   \n",
       "\n",
       "                                                                                                                                                                                                               Responsibilities  \\\n",
       "0            Manage and grow social media accounts, create engaging content, and interact with the online community. Develop social media content calendars and strategies. Monitor social media trends and engagement metrics.   \n",
       "1  Design and code user interfaces for websites, ensuring a seamless and visually appealing user experience. Collaborate with UX designers to optimize user journeys. Ensure cross-browser compatibility and responsive design.   \n",
       "2                               Establish and enforce quality control standards and procedures. Conduct quality audits and inspections. Collaborate with production teams to address quality issues and implement improvements.   \n",
       "3                                    Design, configure, and optimize wireless networks, ensuring reliable and secure wireless connectivity. Troubleshoot wireless network issues. Plan and implement wireless network upgrades.   \n",
       "4                                                                Specialize in conference and convention planning. Coordinate speaker sessions, exhibitors, and attendee experiences. Oversee event registration and marketing.   \n",
       "\n",
       "                            Company  Min_Salary  Max_Salary  Average_Salary  \\\n",
       "0                 Icahn Enterprises    253700.0    425700.0        339700.0   \n",
       "1      PNC Financial Services Group    240800.0    498800.0        369800.0   \n",
       "2  United Services Automobile Assn.    262300.0    447200.0        354750.0   \n",
       "3                              Hess    279500.0    391300.0        335400.0   \n",
       "4                      Cairn Energy    275200.0    374100.0        324650.0   \n",
       "\n",
       "   Salary  Bonuses and Incentive Programs  Casual Dress Code  \\\n",
       "0       1                               0                  0   \n",
       "1       1                               0                  0   \n",
       "2       1                               1                  0   \n",
       "3       0                               1                  0   \n",
       "4       0                               0                  0   \n",
       "\n",
       "   Childcare Assistance  Employee Assistance Programs (EAP)  \\\n",
       "0                     0                                   0   \n",
       "1                     0                                   1   \n",
       "2                     0                                   0   \n",
       "3                     0                                   0   \n",
       "4                     0                                   0   \n",
       "\n",
       "   Employee Discounts  Employee Recognition Programs  \\\n",
       "0                   0                              1   \n",
       "1                   0                              0   \n",
       "2                   1                              0   \n",
       "3                   1                              0   \n",
       "4                   0                              1   \n",
       "\n",
       "   Employee Referral Programs  Financial Counseling  \\\n",
       "0                           0                     1   \n",
       "1                           0                     0   \n",
       "2                           0                     0   \n",
       "3                           0                     0   \n",
       "4                           0                     1   \n",
       "\n",
       "   Flexible Spending Accounts (FSAs)  Flexible Work Arrangements  \\\n",
       "0                                  1                           0   \n",
       "1                                  0                           1   \n",
       "2                                  0                           0   \n",
       "3                                  0                           0   \n",
       "4                                  1                           0   \n",
       "\n",
       "   Health Insurance  Health and Wellness Facilities  Legal Assistance  \\\n",
       "0                 0                               0                 1   \n",
       "1                 1                               0                 0   \n",
       "2                 0                               0                 1   \n",
       "3                 0                               0                 0   \n",
       "4                 0                               0                 1   \n",
       "\n",
       "   Life and Disability Insurance  Paid Time Off (PTO)  Parental Leave  \\\n",
       "0                              0                    0               0   \n",
       "1                              0                    1               0   \n",
       "2                              0                    0               0   \n",
       "3                              0                    0               0   \n",
       "4                              0                    0               0   \n",
       "\n",
       "   Professional Development  Profit-Sharing  Relocation Assistance  \\\n",
       "0                         0               0                      1   \n",
       "1                         0               0                      0   \n",
       "2                         0               0                      0   \n",
       "3                         1               1                      0   \n",
       "4                         0               0                      1   \n",
       "\n",
       "   Retirement Plans  Social and Recreational Activities  \\\n",
       "0                 0                                   0   \n",
       "1                 1                                   0   \n",
       "2                 1                                   0   \n",
       "3                 0                                   0   \n",
       "4                 0                                   0   \n",
       "\n",
       "   Stock Options or Equity Grants  Transportation Benefits  \\\n",
       "0                               0                        0   \n",
       "1                               0                        0   \n",
       "2                               0                        0   \n",
       "3                               0                        1   \n",
       "4                               0                        0   \n",
       "\n",
       "   Tuition Reimbursement  Wellness Programs  Average_experience  Job Area  \n",
       "0                      0                  0                  10         3  \n",
       "1                      0                  0                   7        10  \n",
       "2                      0                  1                   6         3  \n",
       "3                      0                  0                   7        10  \n",
       "4                      0                  0                   6         3  "
      ]
     },
     "execution_count": 72,
     "metadata": {},
     "output_type": "execute_result"
    }
   ],
   "source": [
    "df.head()"
   ]
  },
  {
   "cell_type": "markdown",
   "id": "f13ebcc2-5a1b-4be7-9a5a-b3e2d2fd81df",
   "metadata": {},
   "source": [
    "### Save changes"
   ]
  },
  {
   "cell_type": "code",
   "execution_count": 74,
   "id": "3ada923b-8d3b-411a-81bc-b5e8dc9323ba",
   "metadata": {},
   "outputs": [],
   "source": [
    "df = save_changes(df)"
   ]
  },
  {
   "cell_type": "markdown",
   "id": "04ece6cf-1fdc-46d1-9060-8e14e65fe3c5",
   "metadata": {},
   "source": [
    "## Analyzing Roles column"
   ]
  },
  {
   "cell_type": "code",
   "execution_count": 76,
   "id": "5db73867-8ce9-4765-9675-e3b5137b55c7",
   "metadata": {},
   "outputs": [
    {
     "data": {
      "text/plain": [
       "['Social Media Manager',\n",
       " 'Frontend Web Developer',\n",
       " 'Quality Control Manager',\n",
       " 'Wireless Network Engineer',\n",
       " 'Conference Manager',\n",
       " 'Quality Assurance Analyst',\n",
       " 'Classroom Teacher',\n",
       " 'User Interface Designer',\n",
       " 'Interaction Designer',\n",
       " 'Wedding Consultant',\n",
       " 'Performance Testing Specialist',\n",
       " 'Family Law Attorney',\n",
       " 'Mechanical Design Engineer',\n",
       " 'Network Security Analyst',\n",
       " 'Sales Account Manager',\n",
       " 'Product Brand Manager',\n",
       " 'School Social Worker',\n",
       " 'Content Creator',\n",
       " 'Deliverability Analyst',\n",
       " 'HR Coordinator']"
      ]
     },
     "execution_count": 76,
     "metadata": {},
     "output_type": "execute_result"
    }
   ],
   "source": [
    "roles = df['Role'].unique().tolist()\n",
    "roles[:20]"
   ]
  },
  {
   "cell_type": "code",
   "execution_count": 77,
   "id": "5b3d5526-0f01-41c5-9122-e6c3b9c8b9f3",
   "metadata": {},
   "outputs": [
    {
     "name": "stdout",
     "output_type": "stream",
     "text": [
      "376\n"
     ]
    }
   ],
   "source": [
    "print(len(roles)) #number of unique values for roles"
   ]
  },
  {
   "cell_type": "markdown",
   "id": "fdd68814-dfbe-4d19-89b3-c118457acb3f",
   "metadata": {},
   "source": [
    "### The Role column contained `376` unique values, which is too many for effective modeling and analysis. To simplify, I applied the same embedding and clustering approach used for Job Title. \n",
    "Now I choosed to group them into 30 categories"
   ]
  },
  {
   "cell_type": "code",
   "execution_count": 79,
   "id": "3304dd91-724f-4bb7-bd7a-d1fd9905b030",
   "metadata": {},
   "outputs": [],
   "source": [
    "roles_emb = model.encode(roles)\n",
    "kmeans_roles = KMeans(n_clusters=30, random_state=42)\n",
    "labels_roles = kmeans_roles.fit_predict(roles_emb)"
   ]
  },
  {
   "cell_type": "code",
   "execution_count": 80,
   "id": "557cd921-5b9a-4e06-bd00-db879d08d698",
   "metadata": {},
   "outputs": [],
   "source": [
    "role_clusters = dict(zip(roles, labels_roles))"
   ]
  },
  {
   "cell_type": "markdown",
   "id": "ed4953e8-8468-4fba-ac99-618e97eb0590",
   "metadata": {},
   "source": [
    "### Add a new column representing the broad categories"
   ]
  },
  {
   "cell_type": "code",
   "execution_count": 82,
   "id": "26a5b707-91ea-42d5-b074-bbd08db3231a",
   "metadata": {},
   "outputs": [],
   "source": [
    "df[\"Role cluster\"] = df['Role'].map(role_clusters)"
   ]
  },
  {
   "cell_type": "markdown",
   "id": "b197456b-56e2-4231-810c-bdd92c54622f",
   "metadata": {},
   "source": [
    "### Sample of 10 job titles mapped to their new 30 role cluster categories"
   ]
  },
  {
   "cell_type": "code",
   "execution_count": 84,
   "id": "3ab8e021-7a0d-4c43-beb4-a9d235c0e05a",
   "metadata": {},
   "outputs": [
    {
     "name": "stdout",
     "output_type": "stream",
     "text": [
      "Job Title: Account Director\n",
      "Role clusters: [25 15]\n",
      "\n",
      "Job Title: Account Executive\n",
      "Role clusters: [25]\n",
      "\n",
      "Job Title: Account Manager\n",
      "Role clusters: [25 23]\n",
      "\n",
      "Job Title: Accountant\n",
      "Role clusters: [7]\n",
      "\n",
      "Job Title: Administrative Assistant\n",
      "Role clusters: [10 17]\n",
      "\n",
      "Job Title: Aerospace Engineer\n",
      "Role clusters: [21]\n",
      "\n",
      "Job Title: Architect\n",
      "Role clusters: [15 24  2]\n",
      "\n",
      "Job Title: Architectural Designer\n",
      "Role clusters: [ 2 15]\n",
      "\n",
      "Job Title: Art Director\n",
      "Role clusters: [ 2 22]\n",
      "\n",
      "Job Title: Art Teacher\n",
      "Role clusters: [18  2]\n",
      "\n"
     ]
    }
   ],
   "source": [
    "grouped = df.groupby(\"Job Title\")[\"Role cluster\"].unique()\n",
    "\n",
    "for job, roles in list(grouped.items())[:10]:\n",
    "    print(f\"Job Title: {job}\")\n",
    "    print(f\"Role clusters: {roles}\")\n",
    "    print()"
   ]
  },
  {
   "cell_type": "markdown",
   "id": "4e4d88eb-49aa-4f6b-ac01-602f403438d4",
   "metadata": {},
   "source": [
    "### Deleted Job Title and Role column cause they are not useful anymore"
   ]
  },
  {
   "cell_type": "code",
   "execution_count": null,
   "id": "44962dae-29e8-4deb-8225-53cb28873c1b",
   "metadata": {},
   "outputs": [],
   "source": [
    "df.drop([\"Job Title\",\"Role\"],axis=1)"
   ]
  },
  {
   "cell_type": "markdown",
   "id": "abd5af9d-339d-4c7d-96e3-07408e85267b",
   "metadata": {},
   "source": [
    "### Save changes"
   ]
  },
  {
   "cell_type": "code",
   "execution_count": null,
   "id": "df9d0985-e21f-48a2-9754-c4356b905a04",
   "metadata": {},
   "outputs": [],
   "source": [
    "df = save_changes(df)"
   ]
  },
  {
   "cell_type": "markdown",
   "id": "5772c9c5-6e9b-4296-9be9-3999973b71ad",
   "metadata": {},
   "source": [
    "## Analyzing Company size column"
   ]
  },
  {
   "cell_type": "code",
   "execution_count": null,
   "id": "2737868d-f41c-41d2-999d-0d0301c0b7b0",
   "metadata": {},
   "outputs": [],
   "source": [
    "print(df[\"Company Size\"].nunique())"
   ]
  },
  {
   "cell_type": "code",
   "execution_count": null,
   "id": "aefa5b40-c15b-4028-ad08-880378f821d0",
   "metadata": {},
   "outputs": [],
   "source": [
    "print(df[\"Company Size\"].unique())"
   ]
  },
  {
   "cell_type": "markdown",
   "id": "b5561169-c361-4c9a-bae2-28f686216a64",
   "metadata": {},
   "source": [
    "### Similarly to Salary column, I converted the Company Size variable into an ordinal categorical feature by applying percentile-based binning:\n",
    "\n",
    "- `Small` – companies with a size below the 33.33rd percentile\n",
    "- `Medium` – companies with a size between the 33.33rd and 66.67th percentiles\n",
    "- `Large` – companies with a size above the 66.67th percentile\n",
    "\n",
    "This transformation helps normalize company size into interpretable groups and allows the model to better capture potential correlations with salary or other features."
   ]
  },
  {
   "cell_type": "code",
   "execution_count": null,
   "id": "2bfa2d3c-3e06-4ae4-a436-2236946a0b22",
   "metadata": {},
   "outputs": [],
   "source": [
    "print(inspect.getsource(company_aggregation))"
   ]
  },
  {
   "cell_type": "code",
   "execution_count": null,
   "id": "6e835d1e-6a13-4290-84d6-0b783be795e2",
   "metadata": {},
   "outputs": [],
   "source": [
    "low_33, high_67 = np.percentile(df['Company Size'], [33.33, 66.67])\n",
    "df['Company size'] = df['Company Size'].apply(company_aggregation,args=(low_33, high_67))"
   ]
  },
  {
   "cell_type": "markdown",
   "id": "928e2e78-667c-4d9d-a08d-2212547d7ec5",
   "metadata": {},
   "source": [
    "### Sample of 10 company sizes and the category"
   ]
  },
  {
   "cell_type": "code",
   "execution_count": null,
   "id": "84ee9960-9236-49a8-8f1d-bc73c3add8b3",
   "metadata": {},
   "outputs": [],
   "source": [
    "df[[\"Company Size\",\"Company size\"]].head(10)"
   ]
  },
  {
   "cell_type": "markdown",
   "id": "51f80329-63a6-47f7-8ee4-58518d080369",
   "metadata": {},
   "source": [
    "### Save changes"
   ]
  },
  {
   "cell_type": "code",
   "execution_count": null,
   "id": "9eb885bf-eca0-4b10-9e62-1307e1ed825e",
   "metadata": {},
   "outputs": [],
   "source": [
    "df = save_changes(df)"
   ]
  },
  {
   "cell_type": "markdown",
   "id": "e7200ade-5e6c-4116-9066-fe9308197762",
   "metadata": {},
   "source": [
    "## Analyzing Qualifications column"
   ]
  },
  {
   "cell_type": "code",
   "execution_count": null,
   "id": "4906ded4-2dea-4c76-8053-2acee2a1747b",
   "metadata": {},
   "outputs": [],
   "source": [
    "print(df[\"Qualifications\"].nunique())"
   ]
  },
  {
   "cell_type": "code",
   "execution_count": null,
   "id": "807587d5-cd80-49a8-8193-b9d74441aad0",
   "metadata": {},
   "outputs": [],
   "source": [
    "df[\"Qualifications\"].unique()"
   ]
  },
  {
   "cell_type": "markdown",
   "id": "47978e8e-bdb8-4bd4-a09a-264e0f1d6800",
   "metadata": {},
   "source": [
    "### Since there are no duplicates, I will keep all these unique degree values as they are."
   ]
  }
 ],
 "metadata": {
  "kernelspec": {
   "display_name": "Python [conda env:base] *",
   "language": "python",
   "name": "conda-base-py"
  },
  "language_info": {
   "codemirror_mode": {
    "name": "ipython",
    "version": 3
   },
   "file_extension": ".py",
   "mimetype": "text/x-python",
   "name": "python",
   "nbconvert_exporter": "python",
   "pygments_lexer": "ipython3",
   "version": "3.12.3"
  }
 },
 "nbformat": 4,
 "nbformat_minor": 5
}
